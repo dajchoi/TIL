{
  "nbformat": 4,
  "nbformat_minor": 0,
  "metadata": {
    "colab": {
      "name": "n111_colab.ipynb",
      "provenance": [],
      "collapsed_sections": [],
      "include_colab_link": true
    },
    "kernelspec": {
      "name": "python3",
      "display_name": "Python 3"
    },
    "language_info": {
      "name": "python"
    }
  },
  "cells": [
    {
      "cell_type": "markdown",
      "metadata": {
        "id": "view-in-github",
        "colab_type": "text"
      },
      "source": [
        "<a href=\"https://colab.research.google.com/github/dajchoi/TIL/blob/main/n111_colab.ipynb\" target=\"_parent\"><img src=\"https://colab.research.google.com/assets/colab-badge.svg\" alt=\"Open In Colab\"/></a>"
      ]
    },
    {
      "cell_type": "markdown",
      "source": [
        "<img src='https://i.imgur.com/RDAD11M.png' width = '200' align = 'right'>\n",
        "\n",
        "## *DATA SCIENCE / SECTION 1 / SPRINT 1 / NOTE 1*\n",
        "\n",
        "---\n",
        "\n",
        "<br>\n",
        "\n",
        "# EDA(Exploratory Data Analysis)\n",
        "\n",
        "## 🏆 학습 목표 \n",
        "\n",
        "- \bpython을 사용할 수 있다.\n",
        "- 데이터 유형을 설명할 수 있다.\n",
        "- EDA에 대해서 이해한다. \n",
        "\n",
        "---\n",
        "\n",
        "# **📊 Note: 탐색적 데이터 분석**\n",
        "\n",
        "이 Note에서는 데이터 사이언스의 첫 단계인 EDA에 대해 알아봅니다. \n",
        "\n",
        "아래는 이 Note의 구성입니다. \n",
        "\n",
        "- **Part 0. 기획 배경**\n",
        "\n",
        "- **Part 1. 기초 python** <br>\n",
        "1-1. 자료형 <br>\n",
        "1-2. 변수(variable) <br>\n",
        "1-3. 라이브러리(library)\n",
        "\n",
        "- **Part 2. 데이터 유형** <br>\n",
        "2-1. 수치형(numeric) <br>\n",
        "2-2. 범주형(categorical) \n",
        "\n",
        "- **Part 3. non-graph : 통계적 기법** <br>\n",
        "3-1. 대푯값(typical value) <br>\n",
        "3-2. 산포도 (dispersion)\n",
        "\n",
        "- **Part 4. graph : 시각화** <br>\n",
        "4-1. 데이터 분포 파악 <br>\n",
        "4-2. 변수들 간의 관계 파악  "
      ],
      "metadata": {
        "id": "601CQlKTYDb5"
      }
    },
    {
      "cell_type": "markdown",
      "source": [
        "<img src = 'https://i.imgur.com/CgZTg7q.png' width=500>"
      ],
      "metadata": {
        "id": "VjF0_CmgTZOr"
      }
    },
    {
      "cell_type": "markdown",
      "source": [
        "# **Part 0. 기획 배경**\n",
        "일반적으로 raw data(원본 데이터)는 결측치, 중복, 잘못된 값 등을 가지고 있어 정제되지 않은 상태로 바로 분석에 사용하기는 어렵습니다. <br>\n",
        "**`Garbage In, Garbage Out(GIGO)`**이라고 올바르지 않은 데이터를 입력하면 분석 결과 또한 옳지 않을 가능성이 높기 때문입니다. <br>\n",
        "따라서 데이터 분석에 앞서 데이터를 파악하고 정제할 필요가 있습니다. <br>\n",
        "**`EDA`**란 데이터 초기 분석 단계로 시각화 또는 통계적 기법을 활용해 데이터의 분포나 관계를 파악하는 등 데이터를 탐색하는 과정입니다. <br>\n",
        "python을 활용해 어떻게 EDA를 시행하는지 배워보도록 합니다. "
      ],
      "metadata": {
        "id": "w0q9LGC9UCLt"
      }
    },
    {
      "cell_type": "markdown",
      "source": [
        "# **Part 1. 기초 python**\n",
        "- python은 인터프리터식 프로그래밍 언어입니다.\n",
        "- 인터프리터 언어는 한 줄씩 소스 코드를 해석해서 실행 결과를 바로 확인할 수 있는 언어입니다."
      ],
      "metadata": {
        "id": "5PnfXSzyUIQx"
      }
    },
    {
      "cell_type": "markdown",
      "source": [
        "## **1-1. 자료형**\n",
        "프로그래밍을 할 때 쓰이는 숫자, 문자열 등 자료 형태로 사용하는 모든 것을 의미합니다. \n",
        "- 데이터형 : 숫자형(Number), 문자형(String), 논리형(Bool)\n",
        "- 컨테이너형 : 데이터형을 하나의 요소로 하여 만들어지는 리스트(List), 튜플(Tuple), 딕셔너리(Dictionary), 집합(Set) 등 \n",
        "- `type()`을 사용해 자료형을 확인할 수 있습니다. "
      ],
      "metadata": {
        "id": "u9lZeKwkZSn1"
      }
    },
    {
      "cell_type": "code",
      "source": [
        "type(0)"
      ],
      "metadata": {
        "colab": {
          "base_uri": "https://localhost:8080/"
        },
        "id": "DrClIrUEcv7Z",
        "outputId": "01307eb2-4a5e-439e-fcd6-6b384f9676a7"
      },
      "execution_count": null,
      "outputs": [
        {
          "output_type": "execute_result",
          "data": {
            "text/plain": [
              "int"
            ]
          },
          "metadata": {},
          "execution_count": 3
        }
      ]
    },
    {
      "cell_type": "code",
      "source": [
        "type(0.1)"
      ],
      "metadata": {
        "colab": {
          "base_uri": "https://localhost:8080/"
        },
        "id": "U7N_cfwNc5TW",
        "outputId": "7f6c226d-884f-4fb9-8d64-2d19d85a792e"
      },
      "execution_count": null,
      "outputs": [
        {
          "output_type": "execute_result",
          "data": {
            "text/plain": [
              "float"
            ]
          },
          "metadata": {},
          "execution_count": 4
        }
      ]
    },
    {
      "cell_type": "code",
      "source": [
        "type('AIBootcamp')"
      ],
      "metadata": {
        "colab": {
          "base_uri": "https://localhost:8080/"
        },
        "id": "MPvNvMQOc2p3",
        "outputId": "849a0608-20f1-4f48-e13e-dce3f131f45a"
      },
      "execution_count": null,
      "outputs": [
        {
          "output_type": "execute_result",
          "data": {
            "text/plain": [
              "str"
            ]
          },
          "metadata": {},
          "execution_count": 2
        }
      ]
    },
    {
      "cell_type": "code",
      "source": [
        "type(True)"
      ],
      "metadata": {
        "colab": {
          "base_uri": "https://localhost:8080/"
        },
        "id": "yAdMCCMtc9pf",
        "outputId": "cdb9b0e9-36c1-44e8-f176-097a8d9236f3"
      },
      "execution_count": null,
      "outputs": [
        {
          "output_type": "execute_result",
          "data": {
            "text/plain": [
              "bool"
            ]
          },
          "metadata": {},
          "execution_count": 6
        }
      ]
    },
    {
      "cell_type": "code",
      "source": [
        "type([1,2,3])"
      ],
      "metadata": {
        "colab": {
          "base_uri": "https://localhost:8080/"
        },
        "id": "utVggbYuc7PD",
        "outputId": "880cee4e-b143-4bdd-b30e-f922cc6ab11f"
      },
      "execution_count": null,
      "outputs": [
        {
          "output_type": "execute_result",
          "data": {
            "text/plain": [
              "list"
            ]
          },
          "metadata": {},
          "execution_count": 5
        }
      ]
    },
    {
      "cell_type": "markdown",
      "source": [
        "## **1-2. 변수(variable)**\n",
        "- 객체를 저장하는 공간입니다. \n",
        "- `=` 기호를 사용하여 좌변에는 변수명을, 우변에는 객체를 입력합니다.\n",
        "- 파이썬에서는 변수에 저장되는 값에 따라 자동으로 자료형이 부여됩니다. "
      ],
      "metadata": {
        "id": "QxMk_Mcxbqi8"
      }
    },
    {
      "cell_type": "code",
      "source": [
        "testNum = 0\n",
        "testNum"
      ],
      "metadata": {
        "colab": {
          "base_uri": "https://localhost:8080/"
        },
        "id": "2HVyYS9_b9rm",
        "outputId": "721a66ed-f887-4ffd-c7fd-8a659a6a10bd"
      },
      "execution_count": null,
      "outputs": [
        {
          "output_type": "execute_result",
          "data": {
            "text/plain": [
              "0"
            ]
          },
          "metadata": {},
          "execution_count": 10
        }
      ]
    },
    {
      "cell_type": "code",
      "source": [
        "type(testNum) # 변수 testNum에 0이 저장되었기 때문에 testNum의 자료형은 숫자형(정수)입니다. "
      ],
      "metadata": {
        "colab": {
          "base_uri": "https://localhost:8080/"
        },
        "id": "rDCZ_AySdGjQ",
        "outputId": "cfaa27d0-ca03-482d-e810-e7a32d4b250b"
      },
      "execution_count": null,
      "outputs": [
        {
          "output_type": "execute_result",
          "data": {
            "text/plain": [
              "int"
            ]
          },
          "metadata": {},
          "execution_count": 11
        }
      ]
    },
    {
      "cell_type": "code",
      "source": [
        "testStr = 'AIBootcamp'\n",
        "testStr"
      ],
      "metadata": {
        "colab": {
          "base_uri": "https://localhost:8080/",
          "height": 36
        },
        "id": "jKgibATqdQaf",
        "outputId": "a16df8be-aafa-48f2-92ff-290276cde1de"
      },
      "execution_count": null,
      "outputs": [
        {
          "output_type": "execute_result",
          "data": {
            "text/plain": [
              "'AIBootcamp'"
            ],
            "application/vnd.google.colaboratory.intrinsic+json": {
              "type": "string"
            }
          },
          "metadata": {},
          "execution_count": 12
        }
      ]
    },
    {
      "cell_type": "code",
      "source": [
        "type(testStr)"
      ],
      "metadata": {
        "colab": {
          "base_uri": "https://localhost:8080/"
        },
        "id": "sYauFhr9daHU",
        "outputId": "0330a44b-8b4c-4665-8376-5a3a909d033f"
      },
      "execution_count": null,
      "outputs": [
        {
          "output_type": "execute_result",
          "data": {
            "text/plain": [
              "str"
            ]
          },
          "metadata": {},
          "execution_count": 13
        }
      ]
    },
    {
      "cell_type": "markdown",
      "source": [
        "> **💡Tip**\n",
        ">\n",
        "> 객체란 자료형과 같은 것으로 이후 section3에서 더 자세히 배우게 됩니다. "
      ],
      "metadata": {
        "id": "9xr-vnzBY9xw"
      }
    },
    {
      "cell_type": "markdown",
      "source": [
        "## **1-3. 라이브러리(library)**\n",
        "자주 사용하는 메소드(함수)들을 모아놓은 것입니다. <br>\n",
        "섹션1에서는 주로 다음 라이브러리들을 사용하게 됩니다. \n",
        "- pandas : 데이터 분석 라이브러리로 분석에 용이한 데이터 구조를 제공합니다. \n",
        "- numpy : 수치 해석 라이브러리로 다차원 배열과 배열 연산 기능을 제공합니다. \n",
        "- matplotlib : 다양한 시각화 기능을 제공합니다.\n",
        "- seaborn : 시각화 라이브러리로 고급화된 그래프의 표현이 가능합니다. "
      ],
      "metadata": {
        "id": "uOcH_w8zZTrh"
      }
    },
    {
      "cell_type": "code",
      "source": [
        "# 라이브러리 불러오기\n",
        "import pandas as pd # pandas 라이브러리를 pd라는 약어로 불러옵니다. \n",
        "import numpy as np"
      ],
      "metadata": {
        "id": "cyU7_5mb0gEB"
      },
      "execution_count": null,
      "outputs": []
    },
    {
      "cell_type": "markdown",
      "source": [
        "> 💡**Tip**\n",
        ">\n",
        "> 각 섹션마다 주제에 맞는 다양한 라이브러리들을 사용하게 됩니다. <br>\n",
        "어떤 라이브러리들이 있고, 어떤 기능을 지니고 있는지 미리 한번 살펴보아도 좋습니다. "
      ],
      "metadata": {
        "id": "3AvASeEMxhmy"
      }
    },
    {
      "cell_type": "markdown",
      "source": [
        "### **a. 데이터프레임(dataframe)**\n",
        "- 데이터셋은 .csv, .excel, .txt 등 다양한 형식으로 이루어져 있는데 이를 컴퓨터가 이해할 수 있는 동일한 형태와 구조로 정리할 필요가 있습니다.\n",
        "- pandas는 이러한 구조화된 데이터 형식을 제공합니다. \n",
        "- 각 관측값을 나타내는 row(행)와, feature를 나타내는 column(열)으로 이루어진 테이블 형태의 2차원 배열입니다. <br>\n",
        "- 동일한 index로 여러 데이터를 나타낼 수 있습니다. \n",
        "- 각 column은 동일한 자료형을 지닙니다. \n",
        "  <img src = 'https://i.imgur.com/sc9sR2j.png'> \n",
        " \n",
        "  "
      ],
      "metadata": {
        "id": "zqFlWjOxwBSm"
      }
    },
    {
      "cell_type": "markdown",
      "source": [
        "> 💡**Tip**\n",
        "- pandas에서 제공하는 자료 구조에는 데이터프레임 외에 시리즈(Series)도 있습니다. \n",
        "- 데이터프레임의 각 column은 시리즈로, 데이터프레임은 여러 개의 시리즈들이 모여있는 것으로 볼 수 있습니다.\n",
        "- 시리즈에 대해서 알아보세요. "
      ],
      "metadata": {
        "id": "6Fym6X9WR2A0"
      }
    },
    {
      "cell_type": "markdown",
      "source": [
        "### **b. 데이터셋 불러오기**\n",
        "데이터를 분석하려면 가장 먼저 데이터를 불러와야 하겠죠? <br>\n",
        "데이터셋은 기본적으로 pandas 라이브러리의 [`.read_csv()`](https://pandas.pydata.org/docs/reference/api/pandas.read_csv.html) 함수를 통해 데이터프레임 형태로 불러올 수 있습니다. <br>\n",
        "크게 두 가지 환경에 따라 데이터를 불러오는 방법을 살펴봅니다. "
      ],
      "metadata": {
        "id": "kwhXMNH4v_Po"
      }
    },
    {
      "cell_type": "markdown",
      "source": [
        "> 💡**Tip**\n",
        "> \n",
        "> csv(comma-separated values) 파일은 데이터를 comma로 구분하는 파일 형식입니다. 하지만 항상 comma로 구분되어 있는 것이 아니라, comma가 아닌 다른 기호로 구분되어 있는 경우도 있습니다. 이럴 때는 어떻게 데이터를 불러올 수 있을까요? "
      ],
      "metadata": {
        "id": "0fSkDVCgNTED"
      }
    },
    {
      "cell_type": "markdown",
      "source": [
        "#### **a-1. URL을 통해서 불러오기**\n",
        "온라인에 제공되는 데이터셋은 URL 주소를 입력해 불러올 수 있습니다. "
      ],
      "metadata": {
        "id": "UwOgCIipyIpO"
      }
    },
    {
      "cell_type": "code",
      "source": [
        "# KT&G 기업의 재무재표 데이터셋 일부 \n",
        "url = 'https://ds-lecture-data.s3.ap-northeast-2.amazonaws.com/kt%26g/kt%26g_0.csv' # URL 주소를 변수 url에 저장 \n",
        "\n",
        "# .read_csv()를 사용하여 데이터셋 불러오기\n",
        "pd.read_csv(url) # 행의 헤더에 데이터가 입력되어 있습니다. "
      ],
      "metadata": {
        "colab": {
          "base_uri": "https://localhost:8080/",
          "height": 268
        },
        "id": "MZ5O-8s_1VSU",
        "outputId": "d5c3e8c7-9e6f-41bb-a7f9-b911bf22e83d"
      },
      "execution_count": null,
      "outputs": [
        {
          "output_type": "execute_result",
          "data": {
            "text/plain": [
              "    19/6  12,578  3,991 3,991.1  4,452  3,245  3,228  17  108,464  25,940  \\\n",
              "0   19/9  13,222  3,825   3,825  4,503  3,221  3,208  13  106,314  20,691   \n",
              "1  19/12  11,982  2,523   2,523  1,794  1,183  1,198 -15  107,121  20,062   \n",
              "2   20/3  11,784  3,150   3,150  4,156  2,939  2,930   9  108,594  24,862   \n",
              "3   20/6  13,188  3,947   3,947  4,020  2,935  2,931   4  110,282  23,386   \n",
              "\n",
              "   ...  -1,878  -4,919  31.73  25.80  12.35  9.37  31.43  803.22  2,351  13.77  \n",
              "0  ...     -83    -329  28.93  24.36  12.67  9.95  24.17  836.86  2,337  13.87  \n",
              "1  ...    -501    -129  21.06   9.87  12.39  9.96  23.04  850.82    873  12.42  \n",
              "2  ...  -1,392     -86  26.73  24.94  13.05  9.79  29.69  823.16  2,134   9.71  \n",
              "3  ...    -214  -5,501  29.93  22.25  12.20  9.40  26.91  837.40  2,135  10.46  \n",
              "\n",
              "[4 rows x 25 columns]"
            ],
            "text/html": [
              "\n",
              "  <div id=\"df-142823a2-9fd4-445f-9cd7-d8854fe9eef8\">\n",
              "    <div class=\"colab-df-container\">\n",
              "      <div>\n",
              "<style scoped>\n",
              "    .dataframe tbody tr th:only-of-type {\n",
              "        vertical-align: middle;\n",
              "    }\n",
              "\n",
              "    .dataframe tbody tr th {\n",
              "        vertical-align: top;\n",
              "    }\n",
              "\n",
              "    .dataframe thead th {\n",
              "        text-align: right;\n",
              "    }\n",
              "</style>\n",
              "<table border=\"1\" class=\"dataframe\">\n",
              "  <thead>\n",
              "    <tr style=\"text-align: right;\">\n",
              "      <th></th>\n",
              "      <th>19/6</th>\n",
              "      <th>12,578</th>\n",
              "      <th>3,991</th>\n",
              "      <th>3,991.1</th>\n",
              "      <th>4,452</th>\n",
              "      <th>3,245</th>\n",
              "      <th>3,228</th>\n",
              "      <th>17</th>\n",
              "      <th>108,464</th>\n",
              "      <th>25,940</th>\n",
              "      <th>...</th>\n",
              "      <th>-1,878</th>\n",
              "      <th>-4,919</th>\n",
              "      <th>31.73</th>\n",
              "      <th>25.80</th>\n",
              "      <th>12.35</th>\n",
              "      <th>9.37</th>\n",
              "      <th>31.43</th>\n",
              "      <th>803.22</th>\n",
              "      <th>2,351</th>\n",
              "      <th>13.77</th>\n",
              "    </tr>\n",
              "  </thead>\n",
              "  <tbody>\n",
              "    <tr>\n",
              "      <th>0</th>\n",
              "      <td>19/9</td>\n",
              "      <td>13,222</td>\n",
              "      <td>3,825</td>\n",
              "      <td>3,825</td>\n",
              "      <td>4,503</td>\n",
              "      <td>3,221</td>\n",
              "      <td>3,208</td>\n",
              "      <td>13</td>\n",
              "      <td>106,314</td>\n",
              "      <td>20,691</td>\n",
              "      <td>...</td>\n",
              "      <td>-83</td>\n",
              "      <td>-329</td>\n",
              "      <td>28.93</td>\n",
              "      <td>24.36</td>\n",
              "      <td>12.67</td>\n",
              "      <td>9.95</td>\n",
              "      <td>24.17</td>\n",
              "      <td>836.86</td>\n",
              "      <td>2,337</td>\n",
              "      <td>13.87</td>\n",
              "    </tr>\n",
              "    <tr>\n",
              "      <th>1</th>\n",
              "      <td>19/12</td>\n",
              "      <td>11,982</td>\n",
              "      <td>2,523</td>\n",
              "      <td>2,523</td>\n",
              "      <td>1,794</td>\n",
              "      <td>1,183</td>\n",
              "      <td>1,198</td>\n",
              "      <td>-15</td>\n",
              "      <td>107,121</td>\n",
              "      <td>20,062</td>\n",
              "      <td>...</td>\n",
              "      <td>-501</td>\n",
              "      <td>-129</td>\n",
              "      <td>21.06</td>\n",
              "      <td>9.87</td>\n",
              "      <td>12.39</td>\n",
              "      <td>9.96</td>\n",
              "      <td>23.04</td>\n",
              "      <td>850.82</td>\n",
              "      <td>873</td>\n",
              "      <td>12.42</td>\n",
              "    </tr>\n",
              "    <tr>\n",
              "      <th>2</th>\n",
              "      <td>20/3</td>\n",
              "      <td>11,784</td>\n",
              "      <td>3,150</td>\n",
              "      <td>3,150</td>\n",
              "      <td>4,156</td>\n",
              "      <td>2,939</td>\n",
              "      <td>2,930</td>\n",
              "      <td>9</td>\n",
              "      <td>108,594</td>\n",
              "      <td>24,862</td>\n",
              "      <td>...</td>\n",
              "      <td>-1,392</td>\n",
              "      <td>-86</td>\n",
              "      <td>26.73</td>\n",
              "      <td>24.94</td>\n",
              "      <td>13.05</td>\n",
              "      <td>9.79</td>\n",
              "      <td>29.69</td>\n",
              "      <td>823.16</td>\n",
              "      <td>2,134</td>\n",
              "      <td>9.71</td>\n",
              "    </tr>\n",
              "    <tr>\n",
              "      <th>3</th>\n",
              "      <td>20/6</td>\n",
              "      <td>13,188</td>\n",
              "      <td>3,947</td>\n",
              "      <td>3,947</td>\n",
              "      <td>4,020</td>\n",
              "      <td>2,935</td>\n",
              "      <td>2,931</td>\n",
              "      <td>4</td>\n",
              "      <td>110,282</td>\n",
              "      <td>23,386</td>\n",
              "      <td>...</td>\n",
              "      <td>-214</td>\n",
              "      <td>-5,501</td>\n",
              "      <td>29.93</td>\n",
              "      <td>22.25</td>\n",
              "      <td>12.20</td>\n",
              "      <td>9.40</td>\n",
              "      <td>26.91</td>\n",
              "      <td>837.40</td>\n",
              "      <td>2,135</td>\n",
              "      <td>10.46</td>\n",
              "    </tr>\n",
              "  </tbody>\n",
              "</table>\n",
              "<p>4 rows × 25 columns</p>\n",
              "</div>\n",
              "      <button class=\"colab-df-convert\" onclick=\"convertToInteractive('df-142823a2-9fd4-445f-9cd7-d8854fe9eef8')\"\n",
              "              title=\"Convert this dataframe to an interactive table.\"\n",
              "              style=\"display:none;\">\n",
              "        \n",
              "  <svg xmlns=\"http://www.w3.org/2000/svg\" height=\"24px\"viewBox=\"0 0 24 24\"\n",
              "       width=\"24px\">\n",
              "    <path d=\"M0 0h24v24H0V0z\" fill=\"none\"/>\n",
              "    <path d=\"M18.56 5.44l.94 2.06.94-2.06 2.06-.94-2.06-.94-.94-2.06-.94 2.06-2.06.94zm-11 1L8.5 8.5l.94-2.06 2.06-.94-2.06-.94L8.5 2.5l-.94 2.06-2.06.94zm10 10l.94 2.06.94-2.06 2.06-.94-2.06-.94-.94-2.06-.94 2.06-2.06.94z\"/><path d=\"M17.41 7.96l-1.37-1.37c-.4-.4-.92-.59-1.43-.59-.52 0-1.04.2-1.43.59L10.3 9.45l-7.72 7.72c-.78.78-.78 2.05 0 2.83L4 21.41c.39.39.9.59 1.41.59.51 0 1.02-.2 1.41-.59l7.78-7.78 2.81-2.81c.8-.78.8-2.07 0-2.86zM5.41 20L4 18.59l7.72-7.72 1.47 1.35L5.41 20z\"/>\n",
              "  </svg>\n",
              "      </button>\n",
              "      \n",
              "  <style>\n",
              "    .colab-df-container {\n",
              "      display:flex;\n",
              "      flex-wrap:wrap;\n",
              "      gap: 12px;\n",
              "    }\n",
              "\n",
              "    .colab-df-convert {\n",
              "      background-color: #E8F0FE;\n",
              "      border: none;\n",
              "      border-radius: 50%;\n",
              "      cursor: pointer;\n",
              "      display: none;\n",
              "      fill: #1967D2;\n",
              "      height: 32px;\n",
              "      padding: 0 0 0 0;\n",
              "      width: 32px;\n",
              "    }\n",
              "\n",
              "    .colab-df-convert:hover {\n",
              "      background-color: #E2EBFA;\n",
              "      box-shadow: 0px 1px 2px rgba(60, 64, 67, 0.3), 0px 1px 3px 1px rgba(60, 64, 67, 0.15);\n",
              "      fill: #174EA6;\n",
              "    }\n",
              "\n",
              "    [theme=dark] .colab-df-convert {\n",
              "      background-color: #3B4455;\n",
              "      fill: #D2E3FC;\n",
              "    }\n",
              "\n",
              "    [theme=dark] .colab-df-convert:hover {\n",
              "      background-color: #434B5C;\n",
              "      box-shadow: 0px 1px 3px 1px rgba(0, 0, 0, 0.15);\n",
              "      filter: drop-shadow(0px 1px 2px rgba(0, 0, 0, 0.3));\n",
              "      fill: #FFFFFF;\n",
              "    }\n",
              "  </style>\n",
              "\n",
              "      <script>\n",
              "        const buttonEl =\n",
              "          document.querySelector('#df-142823a2-9fd4-445f-9cd7-d8854fe9eef8 button.colab-df-convert');\n",
              "        buttonEl.style.display =\n",
              "          google.colab.kernel.accessAllowed ? 'block' : 'none';\n",
              "\n",
              "        async function convertToInteractive(key) {\n",
              "          const element = document.querySelector('#df-142823a2-9fd4-445f-9cd7-d8854fe9eef8');\n",
              "          const dataTable =\n",
              "            await google.colab.kernel.invokeFunction('convertToInteractive',\n",
              "                                                     [key], {});\n",
              "          if (!dataTable) return;\n",
              "\n",
              "          const docLinkHtml = 'Like what you see? Visit the ' +\n",
              "            '<a target=\"_blank\" href=https://colab.research.google.com/notebooks/data_table.ipynb>data table notebook</a>'\n",
              "            + ' to learn more about interactive tables.';\n",
              "          element.innerHTML = '';\n",
              "          dataTable['output_type'] = 'display_data';\n",
              "          await google.colab.output.renderOutput(dataTable, element);\n",
              "          const docLink = document.createElement('div');\n",
              "          docLink.innerHTML = docLinkHtml;\n",
              "          element.appendChild(docLink);\n",
              "        }\n",
              "      </script>\n",
              "    </div>\n",
              "  </div>\n",
              "  "
            ]
          },
          "metadata": {},
          "execution_count": 3
        }
      ]
    },
    {
      "cell_type": "code",
      "source": [
        "# 헤더 이름을 지정하는 파라미터 names를 설정하여 데이터를 불러오고, 변수 df에 저장 \n",
        "column_headers = ['분기','매출액','영업이익','영업이익(발표기준)','세전계속사업이익',\n",
        "                  '당기순이익','당기순이익(지배)','당기순이익(비지배)','자산총계','부채총계',\n",
        "                  '자본총계','자본총계(지배)','자본총계(비지배)','자본금','영업활동현금흐름',\n",
        "                  '투자활동현금흐름','재무활동현금흐름','영업이익률','순이익률','ROE(%)',\n",
        "                  'ROA(%)','부채비율','자본유보율','EPS(원)','PER(배)'] # 헤더 이름을 list에 저장하여 변수 column_headers에 저장 \n",
        "df = pd.read_csv(url, names = column_headers)\n",
        "df"
      ],
      "metadata": {
        "colab": {
          "base_uri": "https://localhost:8080/",
          "height": 401
        },
        "id": "vNtyeWag2Ojw",
        "outputId": "1f6293b6-1d0f-4bd0-9633-fdc406366e84"
      },
      "execution_count": null,
      "outputs": [
        {
          "output_type": "execute_result",
          "data": {
            "text/plain": [
              "      분기     매출액   영업이익 영업이익(발표기준) 세전계속사업이익  당기순이익 당기순이익(지배)  당기순이익(비지배)  \\\n",
              "0   19/6  12,578  3,991      3,991    4,452  3,245     3,228          17   \n",
              "1   19/9  13,222  3,825      3,825    4,503  3,221     3,208          13   \n",
              "2  19/12  11,982  2,523      2,523    1,794  1,183     1,198         -15   \n",
              "3   20/3  11,784  3,150      3,150    4,156  2,939     2,930           9   \n",
              "4   20/6  13,188  3,947      3,947    4,020  2,935     2,931           4   \n",
              "\n",
              "      자산총계    부채총계  ... 투자활동현금흐름 재무활동현금흐름  영업이익률   순이익률 ROE(%) ROA(%)   부채비율  \\\n",
              "0  108,464  25,940  ...   -1,878   -4,919  31.73  25.80  12.35   9.37  31.43   \n",
              "1  106,314  20,691  ...      -83     -329  28.93  24.36  12.67   9.95  24.17   \n",
              "2  107,121  20,062  ...     -501     -129  21.06   9.87  12.39   9.96  23.04   \n",
              "3  108,594  24,862  ...   -1,392      -86  26.73  24.94  13.05   9.79  29.69   \n",
              "4  110,282  23,386  ...     -214   -5,501  29.93  22.25  12.20   9.40  26.91   \n",
              "\n",
              "    자본유보율  EPS(원)  PER(배)  \n",
              "0  803.22   2,351   13.77  \n",
              "1  836.86   2,337   13.87  \n",
              "2  850.82     873   12.42  \n",
              "3  823.16   2,134    9.71  \n",
              "4  837.40   2,135   10.46  \n",
              "\n",
              "[5 rows x 25 columns]"
            ],
            "text/html": [
              "\n",
              "  <div id=\"df-d0394dfa-ed40-404b-b76a-ce54ed347372\">\n",
              "    <div class=\"colab-df-container\">\n",
              "      <div>\n",
              "<style scoped>\n",
              "    .dataframe tbody tr th:only-of-type {\n",
              "        vertical-align: middle;\n",
              "    }\n",
              "\n",
              "    .dataframe tbody tr th {\n",
              "        vertical-align: top;\n",
              "    }\n",
              "\n",
              "    .dataframe thead th {\n",
              "        text-align: right;\n",
              "    }\n",
              "</style>\n",
              "<table border=\"1\" class=\"dataframe\">\n",
              "  <thead>\n",
              "    <tr style=\"text-align: right;\">\n",
              "      <th></th>\n",
              "      <th>분기</th>\n",
              "      <th>매출액</th>\n",
              "      <th>영업이익</th>\n",
              "      <th>영업이익(발표기준)</th>\n",
              "      <th>세전계속사업이익</th>\n",
              "      <th>당기순이익</th>\n",
              "      <th>당기순이익(지배)</th>\n",
              "      <th>당기순이익(비지배)</th>\n",
              "      <th>자산총계</th>\n",
              "      <th>부채총계</th>\n",
              "      <th>...</th>\n",
              "      <th>투자활동현금흐름</th>\n",
              "      <th>재무활동현금흐름</th>\n",
              "      <th>영업이익률</th>\n",
              "      <th>순이익률</th>\n",
              "      <th>ROE(%)</th>\n",
              "      <th>ROA(%)</th>\n",
              "      <th>부채비율</th>\n",
              "      <th>자본유보율</th>\n",
              "      <th>EPS(원)</th>\n",
              "      <th>PER(배)</th>\n",
              "    </tr>\n",
              "  </thead>\n",
              "  <tbody>\n",
              "    <tr>\n",
              "      <th>0</th>\n",
              "      <td>19/6</td>\n",
              "      <td>12,578</td>\n",
              "      <td>3,991</td>\n",
              "      <td>3,991</td>\n",
              "      <td>4,452</td>\n",
              "      <td>3,245</td>\n",
              "      <td>3,228</td>\n",
              "      <td>17</td>\n",
              "      <td>108,464</td>\n",
              "      <td>25,940</td>\n",
              "      <td>...</td>\n",
              "      <td>-1,878</td>\n",
              "      <td>-4,919</td>\n",
              "      <td>31.73</td>\n",
              "      <td>25.80</td>\n",
              "      <td>12.35</td>\n",
              "      <td>9.37</td>\n",
              "      <td>31.43</td>\n",
              "      <td>803.22</td>\n",
              "      <td>2,351</td>\n",
              "      <td>13.77</td>\n",
              "    </tr>\n",
              "    <tr>\n",
              "      <th>1</th>\n",
              "      <td>19/9</td>\n",
              "      <td>13,222</td>\n",
              "      <td>3,825</td>\n",
              "      <td>3,825</td>\n",
              "      <td>4,503</td>\n",
              "      <td>3,221</td>\n",
              "      <td>3,208</td>\n",
              "      <td>13</td>\n",
              "      <td>106,314</td>\n",
              "      <td>20,691</td>\n",
              "      <td>...</td>\n",
              "      <td>-83</td>\n",
              "      <td>-329</td>\n",
              "      <td>28.93</td>\n",
              "      <td>24.36</td>\n",
              "      <td>12.67</td>\n",
              "      <td>9.95</td>\n",
              "      <td>24.17</td>\n",
              "      <td>836.86</td>\n",
              "      <td>2,337</td>\n",
              "      <td>13.87</td>\n",
              "    </tr>\n",
              "    <tr>\n",
              "      <th>2</th>\n",
              "      <td>19/12</td>\n",
              "      <td>11,982</td>\n",
              "      <td>2,523</td>\n",
              "      <td>2,523</td>\n",
              "      <td>1,794</td>\n",
              "      <td>1,183</td>\n",
              "      <td>1,198</td>\n",
              "      <td>-15</td>\n",
              "      <td>107,121</td>\n",
              "      <td>20,062</td>\n",
              "      <td>...</td>\n",
              "      <td>-501</td>\n",
              "      <td>-129</td>\n",
              "      <td>21.06</td>\n",
              "      <td>9.87</td>\n",
              "      <td>12.39</td>\n",
              "      <td>9.96</td>\n",
              "      <td>23.04</td>\n",
              "      <td>850.82</td>\n",
              "      <td>873</td>\n",
              "      <td>12.42</td>\n",
              "    </tr>\n",
              "    <tr>\n",
              "      <th>3</th>\n",
              "      <td>20/3</td>\n",
              "      <td>11,784</td>\n",
              "      <td>3,150</td>\n",
              "      <td>3,150</td>\n",
              "      <td>4,156</td>\n",
              "      <td>2,939</td>\n",
              "      <td>2,930</td>\n",
              "      <td>9</td>\n",
              "      <td>108,594</td>\n",
              "      <td>24,862</td>\n",
              "      <td>...</td>\n",
              "      <td>-1,392</td>\n",
              "      <td>-86</td>\n",
              "      <td>26.73</td>\n",
              "      <td>24.94</td>\n",
              "      <td>13.05</td>\n",
              "      <td>9.79</td>\n",
              "      <td>29.69</td>\n",
              "      <td>823.16</td>\n",
              "      <td>2,134</td>\n",
              "      <td>9.71</td>\n",
              "    </tr>\n",
              "    <tr>\n",
              "      <th>4</th>\n",
              "      <td>20/6</td>\n",
              "      <td>13,188</td>\n",
              "      <td>3,947</td>\n",
              "      <td>3,947</td>\n",
              "      <td>4,020</td>\n",
              "      <td>2,935</td>\n",
              "      <td>2,931</td>\n",
              "      <td>4</td>\n",
              "      <td>110,282</td>\n",
              "      <td>23,386</td>\n",
              "      <td>...</td>\n",
              "      <td>-214</td>\n",
              "      <td>-5,501</td>\n",
              "      <td>29.93</td>\n",
              "      <td>22.25</td>\n",
              "      <td>12.20</td>\n",
              "      <td>9.40</td>\n",
              "      <td>26.91</td>\n",
              "      <td>837.40</td>\n",
              "      <td>2,135</td>\n",
              "      <td>10.46</td>\n",
              "    </tr>\n",
              "  </tbody>\n",
              "</table>\n",
              "<p>5 rows × 25 columns</p>\n",
              "</div>\n",
              "      <button class=\"colab-df-convert\" onclick=\"convertToInteractive('df-d0394dfa-ed40-404b-b76a-ce54ed347372')\"\n",
              "              title=\"Convert this dataframe to an interactive table.\"\n",
              "              style=\"display:none;\">\n",
              "        \n",
              "  <svg xmlns=\"http://www.w3.org/2000/svg\" height=\"24px\"viewBox=\"0 0 24 24\"\n",
              "       width=\"24px\">\n",
              "    <path d=\"M0 0h24v24H0V0z\" fill=\"none\"/>\n",
              "    <path d=\"M18.56 5.44l.94 2.06.94-2.06 2.06-.94-2.06-.94-.94-2.06-.94 2.06-2.06.94zm-11 1L8.5 8.5l.94-2.06 2.06-.94-2.06-.94L8.5 2.5l-.94 2.06-2.06.94zm10 10l.94 2.06.94-2.06 2.06-.94-2.06-.94-.94-2.06-.94 2.06-2.06.94z\"/><path d=\"M17.41 7.96l-1.37-1.37c-.4-.4-.92-.59-1.43-.59-.52 0-1.04.2-1.43.59L10.3 9.45l-7.72 7.72c-.78.78-.78 2.05 0 2.83L4 21.41c.39.39.9.59 1.41.59.51 0 1.02-.2 1.41-.59l7.78-7.78 2.81-2.81c.8-.78.8-2.07 0-2.86zM5.41 20L4 18.59l7.72-7.72 1.47 1.35L5.41 20z\"/>\n",
              "  </svg>\n",
              "      </button>\n",
              "      \n",
              "  <style>\n",
              "    .colab-df-container {\n",
              "      display:flex;\n",
              "      flex-wrap:wrap;\n",
              "      gap: 12px;\n",
              "    }\n",
              "\n",
              "    .colab-df-convert {\n",
              "      background-color: #E8F0FE;\n",
              "      border: none;\n",
              "      border-radius: 50%;\n",
              "      cursor: pointer;\n",
              "      display: none;\n",
              "      fill: #1967D2;\n",
              "      height: 32px;\n",
              "      padding: 0 0 0 0;\n",
              "      width: 32px;\n",
              "    }\n",
              "\n",
              "    .colab-df-convert:hover {\n",
              "      background-color: #E2EBFA;\n",
              "      box-shadow: 0px 1px 2px rgba(60, 64, 67, 0.3), 0px 1px 3px 1px rgba(60, 64, 67, 0.15);\n",
              "      fill: #174EA6;\n",
              "    }\n",
              "\n",
              "    [theme=dark] .colab-df-convert {\n",
              "      background-color: #3B4455;\n",
              "      fill: #D2E3FC;\n",
              "    }\n",
              "\n",
              "    [theme=dark] .colab-df-convert:hover {\n",
              "      background-color: #434B5C;\n",
              "      box-shadow: 0px 1px 3px 1px rgba(0, 0, 0, 0.15);\n",
              "      filter: drop-shadow(0px 1px 2px rgba(0, 0, 0, 0.3));\n",
              "      fill: #FFFFFF;\n",
              "    }\n",
              "  </style>\n",
              "\n",
              "      <script>\n",
              "        const buttonEl =\n",
              "          document.querySelector('#df-d0394dfa-ed40-404b-b76a-ce54ed347372 button.colab-df-convert');\n",
              "        buttonEl.style.display =\n",
              "          google.colab.kernel.accessAllowed ? 'block' : 'none';\n",
              "\n",
              "        async function convertToInteractive(key) {\n",
              "          const element = document.querySelector('#df-d0394dfa-ed40-404b-b76a-ce54ed347372');\n",
              "          const dataTable =\n",
              "            await google.colab.kernel.invokeFunction('convertToInteractive',\n",
              "                                                     [key], {});\n",
              "          if (!dataTable) return;\n",
              "\n",
              "          const docLinkHtml = 'Like what you see? Visit the ' +\n",
              "            '<a target=\"_blank\" href=https://colab.research.google.com/notebooks/data_table.ipynb>data table notebook</a>'\n",
              "            + ' to learn more about interactive tables.';\n",
              "          element.innerHTML = '';\n",
              "          dataTable['output_type'] = 'display_data';\n",
              "          await google.colab.output.renderOutput(dataTable, element);\n",
              "          const docLink = document.createElement('div');\n",
              "          docLink.innerHTML = docLinkHtml;\n",
              "          element.appendChild(docLink);\n",
              "        }\n",
              "      </script>\n",
              "    </div>\n",
              "  </div>\n",
              "  "
            ]
          },
          "metadata": {},
          "execution_count": 4
        }
      ]
    },
    {
      "cell_type": "code",
      "source": [
        "# '매출액' column 추출하기 \n",
        "df['매출액'] # 시리즈를 반환합니다. "
      ],
      "metadata": {
        "colab": {
          "base_uri": "https://localhost:8080/"
        },
        "id": "O-rmNtiGSRRo",
        "outputId": "0cef2ff0-0e9a-43ec-eca2-6e59040a943c"
      },
      "execution_count": null,
      "outputs": [
        {
          "output_type": "execute_result",
          "data": {
            "text/plain": [
              "0    12,578\n",
              "1    13,222\n",
              "2    11,982\n",
              "3    11,784\n",
              "4    13,188\n",
              "Name: 매출액, dtype: object"
            ]
          },
          "metadata": {},
          "execution_count": 7
        }
      ]
    },
    {
      "cell_type": "code",
      "source": [
        "# .dtypes를 사용해 모든 column의 데이터 타입 확인하기 \n",
        "df.dtypes"
      ],
      "metadata": {
        "colab": {
          "base_uri": "https://localhost:8080/"
        },
        "id": "3qT7Wjq7ymY6",
        "outputId": "5e621f3c-11d0-483a-9f57-08a0962928df"
      },
      "execution_count": null,
      "outputs": [
        {
          "output_type": "execute_result",
          "data": {
            "text/plain": [
              "분기             object\n",
              "매출액            object\n",
              "영업이익           object\n",
              "영업이익(발표기준)     object\n",
              "세전계속사업이익       object\n",
              "당기순이익          object\n",
              "당기순이익(지배)      object\n",
              "당기순이익(비지배)      int64\n",
              "자산총계           object\n",
              "부채총계           object\n",
              "자본총계           object\n",
              "자본총계(지배)       object\n",
              "자본총계(비지배)     float64\n",
              "자본금            object\n",
              "영업활동현금흐름       object\n",
              "투자활동현금흐름       object\n",
              "재무활동현금흐름       object\n",
              "영업이익률         float64\n",
              "순이익률          float64\n",
              "ROE(%)        float64\n",
              "ROA(%)        float64\n",
              "부채비율          float64\n",
              "자본유보율         float64\n",
              "EPS(원)         object\n",
              "PER(배)        float64\n",
              "dtype: object"
            ]
          },
          "metadata": {},
          "execution_count": 8
        }
      ]
    },
    {
      "cell_type": "markdown",
      "source": [
        "#### **a-2. 로컬 파일로부터 불러오기**\n",
        "데이터가 pc에 저장되어 있는 경우에는 로컬 파일을 업로드 한 후 불러옵니다. \n",
        "- GUI(Graphical User Interface) : colab의 왼쪽 '파일' 탭에서 '세션 저장소에 업로드'를 통해 파일을 직접 업로드 합니다. \n",
        "- 구글 코랩의 파일 패키지를 사용하여 업로드 합니다.\n",
        "- 구글 드라이브에 파일을 업로드 합니다. "
      ],
      "metadata": {
        "id": "JP0IsCXLyOkJ"
      }
    },
    {
      "cell_type": "code",
      "source": [
        "# 구글 코랩 파일 업로드 패키지 실행\n",
        "from google.colab import files\n",
        "uploaded = files.upload()"
      ],
      "metadata": {
        "colab": {
          "resources": {
            "http://localhost:8080/nbextensions/google.colab/files.js": {
              "data": "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",
              "ok": true,
              "headers": [
                [
                  "content-type",
                  "application/javascript"
                ]
              ],
              "status": 200,
              "status_text": ""
            }
          },
          "base_uri": "https://localhost:8080/",
          "height": 75
        },
        "id": "564wUpBf3MiN",
        "outputId": "4a2fcb10-0b8b-430d-a270-3db89582417e"
      },
      "execution_count": null,
      "outputs": [
        {
          "output_type": "display_data",
          "data": {
            "text/plain": [
              "<IPython.core.display.HTML object>"
            ],
            "text/html": [
              "\n",
              "     <input type=\"file\" id=\"files-829acb52-e53a-47d1-9b0c-dd97fe9fd660\" name=\"files[]\" multiple disabled\n",
              "        style=\"border:none\" />\n",
              "     <output id=\"result-829acb52-e53a-47d1-9b0c-dd97fe9fd660\">\n",
              "      Upload widget is only available when the cell has been executed in the\n",
              "      current browser session. Please rerun this cell to enable.\n",
              "      </output>\n",
              "      <script src=\"/nbextensions/google.colab/files.js\"></script> "
            ]
          },
          "metadata": {}
        },
        {
          "output_type": "stream",
          "name": "stdout",
          "text": [
            "Saving ktng.csv to ktng.csv\n"
          ]
        }
      ]
    },
    {
      "cell_type": "code",
      "source": [
        "pd.read_csv('ktng.csv')"
      ],
      "metadata": {
        "colab": {
          "base_uri": "https://localhost:8080/",
          "height": 268
        },
        "id": "Wj7gH4Mo4Wg0",
        "outputId": "115829fa-fddc-4d61-aab6-38f4307d98c6"
      },
      "execution_count": null,
      "outputs": [
        {
          "output_type": "execute_result",
          "data": {
            "text/plain": [
              "    19/6  12,578  3,991 3,991.1  4,452  3,245  3,228  17  108,464  25,940  \\\n",
              "0   19/9  13,222  3,825   3,825  4,503  3,221  3,208  13  106,314  20,691   \n",
              "1  19/12  11,982  2,523   2,523  1,794  1,183  1,198 -15  107,121  20,062   \n",
              "2   20/3  11,784  3,150   3,150  4,156  2,939  2,930   9  108,594  24,862   \n",
              "3   20/6  13,188  3,947   3,947  4,020  2,935  2,931   4  110,282  23,386   \n",
              "\n",
              "   ...  -1,878  -4,919  31.73  25.80  12.35  9.37  31.43  803.22  2,351  13.77  \n",
              "0  ...     -83    -329  28.93  24.36  12.67  9.95  24.17  836.86  2,337  13.87  \n",
              "1  ...    -501    -129  21.06   9.87  12.39  9.96  23.04  850.82    873  12.42  \n",
              "2  ...  -1,392     -86  26.73  24.94  13.05  9.79  29.69  823.16  2,134   9.71  \n",
              "3  ...    -214  -5,501  29.93  22.25  12.20  9.40  26.91  837.40  2,135  10.46  \n",
              "\n",
              "[4 rows x 25 columns]"
            ],
            "text/html": [
              "\n",
              "  <div id=\"df-d6946d6a-5eb1-4e45-955b-f73dad202559\">\n",
              "    <div class=\"colab-df-container\">\n",
              "      <div>\n",
              "<style scoped>\n",
              "    .dataframe tbody tr th:only-of-type {\n",
              "        vertical-align: middle;\n",
              "    }\n",
              "\n",
              "    .dataframe tbody tr th {\n",
              "        vertical-align: top;\n",
              "    }\n",
              "\n",
              "    .dataframe thead th {\n",
              "        text-align: right;\n",
              "    }\n",
              "</style>\n",
              "<table border=\"1\" class=\"dataframe\">\n",
              "  <thead>\n",
              "    <tr style=\"text-align: right;\">\n",
              "      <th></th>\n",
              "      <th>19/6</th>\n",
              "      <th>12,578</th>\n",
              "      <th>3,991</th>\n",
              "      <th>3,991.1</th>\n",
              "      <th>4,452</th>\n",
              "      <th>3,245</th>\n",
              "      <th>3,228</th>\n",
              "      <th>17</th>\n",
              "      <th>108,464</th>\n",
              "      <th>25,940</th>\n",
              "      <th>...</th>\n",
              "      <th>-1,878</th>\n",
              "      <th>-4,919</th>\n",
              "      <th>31.73</th>\n",
              "      <th>25.80</th>\n",
              "      <th>12.35</th>\n",
              "      <th>9.37</th>\n",
              "      <th>31.43</th>\n",
              "      <th>803.22</th>\n",
              "      <th>2,351</th>\n",
              "      <th>13.77</th>\n",
              "    </tr>\n",
              "  </thead>\n",
              "  <tbody>\n",
              "    <tr>\n",
              "      <th>0</th>\n",
              "      <td>19/9</td>\n",
              "      <td>13,222</td>\n",
              "      <td>3,825</td>\n",
              "      <td>3,825</td>\n",
              "      <td>4,503</td>\n",
              "      <td>3,221</td>\n",
              "      <td>3,208</td>\n",
              "      <td>13</td>\n",
              "      <td>106,314</td>\n",
              "      <td>20,691</td>\n",
              "      <td>...</td>\n",
              "      <td>-83</td>\n",
              "      <td>-329</td>\n",
              "      <td>28.93</td>\n",
              "      <td>24.36</td>\n",
              "      <td>12.67</td>\n",
              "      <td>9.95</td>\n",
              "      <td>24.17</td>\n",
              "      <td>836.86</td>\n",
              "      <td>2,337</td>\n",
              "      <td>13.87</td>\n",
              "    </tr>\n",
              "    <tr>\n",
              "      <th>1</th>\n",
              "      <td>19/12</td>\n",
              "      <td>11,982</td>\n",
              "      <td>2,523</td>\n",
              "      <td>2,523</td>\n",
              "      <td>1,794</td>\n",
              "      <td>1,183</td>\n",
              "      <td>1,198</td>\n",
              "      <td>-15</td>\n",
              "      <td>107,121</td>\n",
              "      <td>20,062</td>\n",
              "      <td>...</td>\n",
              "      <td>-501</td>\n",
              "      <td>-129</td>\n",
              "      <td>21.06</td>\n",
              "      <td>9.87</td>\n",
              "      <td>12.39</td>\n",
              "      <td>9.96</td>\n",
              "      <td>23.04</td>\n",
              "      <td>850.82</td>\n",
              "      <td>873</td>\n",
              "      <td>12.42</td>\n",
              "    </tr>\n",
              "    <tr>\n",
              "      <th>2</th>\n",
              "      <td>20/3</td>\n",
              "      <td>11,784</td>\n",
              "      <td>3,150</td>\n",
              "      <td>3,150</td>\n",
              "      <td>4,156</td>\n",
              "      <td>2,939</td>\n",
              "      <td>2,930</td>\n",
              "      <td>9</td>\n",
              "      <td>108,594</td>\n",
              "      <td>24,862</td>\n",
              "      <td>...</td>\n",
              "      <td>-1,392</td>\n",
              "      <td>-86</td>\n",
              "      <td>26.73</td>\n",
              "      <td>24.94</td>\n",
              "      <td>13.05</td>\n",
              "      <td>9.79</td>\n",
              "      <td>29.69</td>\n",
              "      <td>823.16</td>\n",
              "      <td>2,134</td>\n",
              "      <td>9.71</td>\n",
              "    </tr>\n",
              "    <tr>\n",
              "      <th>3</th>\n",
              "      <td>20/6</td>\n",
              "      <td>13,188</td>\n",
              "      <td>3,947</td>\n",
              "      <td>3,947</td>\n",
              "      <td>4,020</td>\n",
              "      <td>2,935</td>\n",
              "      <td>2,931</td>\n",
              "      <td>4</td>\n",
              "      <td>110,282</td>\n",
              "      <td>23,386</td>\n",
              "      <td>...</td>\n",
              "      <td>-214</td>\n",
              "      <td>-5,501</td>\n",
              "      <td>29.93</td>\n",
              "      <td>22.25</td>\n",
              "      <td>12.20</td>\n",
              "      <td>9.40</td>\n",
              "      <td>26.91</td>\n",
              "      <td>837.40</td>\n",
              "      <td>2,135</td>\n",
              "      <td>10.46</td>\n",
              "    </tr>\n",
              "  </tbody>\n",
              "</table>\n",
              "<p>4 rows × 25 columns</p>\n",
              "</div>\n",
              "      <button class=\"colab-df-convert\" onclick=\"convertToInteractive('df-d6946d6a-5eb1-4e45-955b-f73dad202559')\"\n",
              "              title=\"Convert this dataframe to an interactive table.\"\n",
              "              style=\"display:none;\">\n",
              "        \n",
              "  <svg xmlns=\"http://www.w3.org/2000/svg\" height=\"24px\"viewBox=\"0 0 24 24\"\n",
              "       width=\"24px\">\n",
              "    <path d=\"M0 0h24v24H0V0z\" fill=\"none\"/>\n",
              "    <path d=\"M18.56 5.44l.94 2.06.94-2.06 2.06-.94-2.06-.94-.94-2.06-.94 2.06-2.06.94zm-11 1L8.5 8.5l.94-2.06 2.06-.94-2.06-.94L8.5 2.5l-.94 2.06-2.06.94zm10 10l.94 2.06.94-2.06 2.06-.94-2.06-.94-.94-2.06-.94 2.06-2.06.94z\"/><path d=\"M17.41 7.96l-1.37-1.37c-.4-.4-.92-.59-1.43-.59-.52 0-1.04.2-1.43.59L10.3 9.45l-7.72 7.72c-.78.78-.78 2.05 0 2.83L4 21.41c.39.39.9.59 1.41.59.51 0 1.02-.2 1.41-.59l7.78-7.78 2.81-2.81c.8-.78.8-2.07 0-2.86zM5.41 20L4 18.59l7.72-7.72 1.47 1.35L5.41 20z\"/>\n",
              "  </svg>\n",
              "      </button>\n",
              "      \n",
              "  <style>\n",
              "    .colab-df-container {\n",
              "      display:flex;\n",
              "      flex-wrap:wrap;\n",
              "      gap: 12px;\n",
              "    }\n",
              "\n",
              "    .colab-df-convert {\n",
              "      background-color: #E8F0FE;\n",
              "      border: none;\n",
              "      border-radius: 50%;\n",
              "      cursor: pointer;\n",
              "      display: none;\n",
              "      fill: #1967D2;\n",
              "      height: 32px;\n",
              "      padding: 0 0 0 0;\n",
              "      width: 32px;\n",
              "    }\n",
              "\n",
              "    .colab-df-convert:hover {\n",
              "      background-color: #E2EBFA;\n",
              "      box-shadow: 0px 1px 2px rgba(60, 64, 67, 0.3), 0px 1px 3px 1px rgba(60, 64, 67, 0.15);\n",
              "      fill: #174EA6;\n",
              "    }\n",
              "\n",
              "    [theme=dark] .colab-df-convert {\n",
              "      background-color: #3B4455;\n",
              "      fill: #D2E3FC;\n",
              "    }\n",
              "\n",
              "    [theme=dark] .colab-df-convert:hover {\n",
              "      background-color: #434B5C;\n",
              "      box-shadow: 0px 1px 3px 1px rgba(0, 0, 0, 0.15);\n",
              "      filter: drop-shadow(0px 1px 2px rgba(0, 0, 0, 0.3));\n",
              "      fill: #FFFFFF;\n",
              "    }\n",
              "  </style>\n",
              "\n",
              "      <script>\n",
              "        const buttonEl =\n",
              "          document.querySelector('#df-d6946d6a-5eb1-4e45-955b-f73dad202559 button.colab-df-convert');\n",
              "        buttonEl.style.display =\n",
              "          google.colab.kernel.accessAllowed ? 'block' : 'none';\n",
              "\n",
              "        async function convertToInteractive(key) {\n",
              "          const element = document.querySelector('#df-d6946d6a-5eb1-4e45-955b-f73dad202559');\n",
              "          const dataTable =\n",
              "            await google.colab.kernel.invokeFunction('convertToInteractive',\n",
              "                                                     [key], {});\n",
              "          if (!dataTable) return;\n",
              "\n",
              "          const docLinkHtml = 'Like what you see? Visit the ' +\n",
              "            '<a target=\"_blank\" href=https://colab.research.google.com/notebooks/data_table.ipynb>data table notebook</a>'\n",
              "            + ' to learn more about interactive tables.';\n",
              "          element.innerHTML = '';\n",
              "          dataTable['output_type'] = 'display_data';\n",
              "          await google.colab.output.renderOutput(dataTable, element);\n",
              "          const docLink = document.createElement('div');\n",
              "          docLink.innerHTML = docLinkHtml;\n",
              "          element.appendChild(docLink);\n",
              "        }\n",
              "      </script>\n",
              "    </div>\n",
              "  </div>\n",
              "  "
            ]
          },
          "metadata": {},
          "execution_count": 5
        }
      ]
    },
    {
      "cell_type": "code",
      "source": [
        "# 구글 드라이브 마운트 \n",
        "from google.colab import drive\n",
        "drive.mount('/content/drive')"
      ],
      "metadata": {
        "colab": {
          "base_uri": "https://localhost:8080/"
        },
        "id": "dm8YMlT0LnZ9",
        "outputId": "d526a5a9-9255-4653-ced3-8551f1501fa8"
      },
      "execution_count": null,
      "outputs": [
        {
          "output_type": "stream",
          "name": "stdout",
          "text": [
            "Mounted at /content/drive\n"
          ]
        }
      ]
    },
    {
      "cell_type": "code",
      "source": [
        "pd.read_csv('/content/drive/MyDrive/ktng.csv')"
      ],
      "metadata": {
        "colab": {
          "base_uri": "https://localhost:8080/",
          "height": 268
        },
        "id": "Z92cEJgKMEGK",
        "outputId": "966861e1-6c25-4e2f-b307-12da117c65cc"
      },
      "execution_count": null,
      "outputs": [
        {
          "output_type": "execute_result",
          "data": {
            "text/plain": [
              "    19/6  12,578  3,991 3,991.1  4,452  3,245  3,228  17  108,464  25,940  \\\n",
              "0   19/9  13,222  3,825   3,825  4,503  3,221  3,208  13  106,314  20,691   \n",
              "1  19/12  11,982  2,523   2,523  1,794  1,183  1,198 -15  107,121  20,062   \n",
              "2   20/3  11,784  3,150   3,150  4,156  2,939  2,930   9  108,594  24,862   \n",
              "3   20/6  13,188  3,947   3,947  4,020  2,935  2,931   4  110,282  23,386   \n",
              "\n",
              "   ...  -1,878  -4,919  31.73  25.80  12.35  9.37  31.43  803.22  2,351  13.77  \n",
              "0  ...     -83    -329  28.93  24.36  12.67  9.95  24.17  836.86  2,337  13.87  \n",
              "1  ...    -501    -129  21.06   9.87  12.39  9.96  23.04  850.82    873  12.42  \n",
              "2  ...  -1,392     -86  26.73  24.94  13.05  9.79  29.69  823.16  2,134   9.71  \n",
              "3  ...    -214  -5,501  29.93  22.25  12.20  9.40  26.91  837.40  2,135  10.46  \n",
              "\n",
              "[4 rows x 25 columns]"
            ],
            "text/html": [
              "\n",
              "  <div id=\"df-dfca2696-6c25-427f-8d1e-decbec39ce76\">\n",
              "    <div class=\"colab-df-container\">\n",
              "      <div>\n",
              "<style scoped>\n",
              "    .dataframe tbody tr th:only-of-type {\n",
              "        vertical-align: middle;\n",
              "    }\n",
              "\n",
              "    .dataframe tbody tr th {\n",
              "        vertical-align: top;\n",
              "    }\n",
              "\n",
              "    .dataframe thead th {\n",
              "        text-align: right;\n",
              "    }\n",
              "</style>\n",
              "<table border=\"1\" class=\"dataframe\">\n",
              "  <thead>\n",
              "    <tr style=\"text-align: right;\">\n",
              "      <th></th>\n",
              "      <th>19/6</th>\n",
              "      <th>12,578</th>\n",
              "      <th>3,991</th>\n",
              "      <th>3,991.1</th>\n",
              "      <th>4,452</th>\n",
              "      <th>3,245</th>\n",
              "      <th>3,228</th>\n",
              "      <th>17</th>\n",
              "      <th>108,464</th>\n",
              "      <th>25,940</th>\n",
              "      <th>...</th>\n",
              "      <th>-1,878</th>\n",
              "      <th>-4,919</th>\n",
              "      <th>31.73</th>\n",
              "      <th>25.80</th>\n",
              "      <th>12.35</th>\n",
              "      <th>9.37</th>\n",
              "      <th>31.43</th>\n",
              "      <th>803.22</th>\n",
              "      <th>2,351</th>\n",
              "      <th>13.77</th>\n",
              "    </tr>\n",
              "  </thead>\n",
              "  <tbody>\n",
              "    <tr>\n",
              "      <th>0</th>\n",
              "      <td>19/9</td>\n",
              "      <td>13,222</td>\n",
              "      <td>3,825</td>\n",
              "      <td>3,825</td>\n",
              "      <td>4,503</td>\n",
              "      <td>3,221</td>\n",
              "      <td>3,208</td>\n",
              "      <td>13</td>\n",
              "      <td>106,314</td>\n",
              "      <td>20,691</td>\n",
              "      <td>...</td>\n",
              "      <td>-83</td>\n",
              "      <td>-329</td>\n",
              "      <td>28.93</td>\n",
              "      <td>24.36</td>\n",
              "      <td>12.67</td>\n",
              "      <td>9.95</td>\n",
              "      <td>24.17</td>\n",
              "      <td>836.86</td>\n",
              "      <td>2,337</td>\n",
              "      <td>13.87</td>\n",
              "    </tr>\n",
              "    <tr>\n",
              "      <th>1</th>\n",
              "      <td>19/12</td>\n",
              "      <td>11,982</td>\n",
              "      <td>2,523</td>\n",
              "      <td>2,523</td>\n",
              "      <td>1,794</td>\n",
              "      <td>1,183</td>\n",
              "      <td>1,198</td>\n",
              "      <td>-15</td>\n",
              "      <td>107,121</td>\n",
              "      <td>20,062</td>\n",
              "      <td>...</td>\n",
              "      <td>-501</td>\n",
              "      <td>-129</td>\n",
              "      <td>21.06</td>\n",
              "      <td>9.87</td>\n",
              "      <td>12.39</td>\n",
              "      <td>9.96</td>\n",
              "      <td>23.04</td>\n",
              "      <td>850.82</td>\n",
              "      <td>873</td>\n",
              "      <td>12.42</td>\n",
              "    </tr>\n",
              "    <tr>\n",
              "      <th>2</th>\n",
              "      <td>20/3</td>\n",
              "      <td>11,784</td>\n",
              "      <td>3,150</td>\n",
              "      <td>3,150</td>\n",
              "      <td>4,156</td>\n",
              "      <td>2,939</td>\n",
              "      <td>2,930</td>\n",
              "      <td>9</td>\n",
              "      <td>108,594</td>\n",
              "      <td>24,862</td>\n",
              "      <td>...</td>\n",
              "      <td>-1,392</td>\n",
              "      <td>-86</td>\n",
              "      <td>26.73</td>\n",
              "      <td>24.94</td>\n",
              "      <td>13.05</td>\n",
              "      <td>9.79</td>\n",
              "      <td>29.69</td>\n",
              "      <td>823.16</td>\n",
              "      <td>2,134</td>\n",
              "      <td>9.71</td>\n",
              "    </tr>\n",
              "    <tr>\n",
              "      <th>3</th>\n",
              "      <td>20/6</td>\n",
              "      <td>13,188</td>\n",
              "      <td>3,947</td>\n",
              "      <td>3,947</td>\n",
              "      <td>4,020</td>\n",
              "      <td>2,935</td>\n",
              "      <td>2,931</td>\n",
              "      <td>4</td>\n",
              "      <td>110,282</td>\n",
              "      <td>23,386</td>\n",
              "      <td>...</td>\n",
              "      <td>-214</td>\n",
              "      <td>-5,501</td>\n",
              "      <td>29.93</td>\n",
              "      <td>22.25</td>\n",
              "      <td>12.20</td>\n",
              "      <td>9.40</td>\n",
              "      <td>26.91</td>\n",
              "      <td>837.40</td>\n",
              "      <td>2,135</td>\n",
              "      <td>10.46</td>\n",
              "    </tr>\n",
              "  </tbody>\n",
              "</table>\n",
              "<p>4 rows × 25 columns</p>\n",
              "</div>\n",
              "      <button class=\"colab-df-convert\" onclick=\"convertToInteractive('df-dfca2696-6c25-427f-8d1e-decbec39ce76')\"\n",
              "              title=\"Convert this dataframe to an interactive table.\"\n",
              "              style=\"display:none;\">\n",
              "        \n",
              "  <svg xmlns=\"http://www.w3.org/2000/svg\" height=\"24px\"viewBox=\"0 0 24 24\"\n",
              "       width=\"24px\">\n",
              "    <path d=\"M0 0h24v24H0V0z\" fill=\"none\"/>\n",
              "    <path d=\"M18.56 5.44l.94 2.06.94-2.06 2.06-.94-2.06-.94-.94-2.06-.94 2.06-2.06.94zm-11 1L8.5 8.5l.94-2.06 2.06-.94-2.06-.94L8.5 2.5l-.94 2.06-2.06.94zm10 10l.94 2.06.94-2.06 2.06-.94-2.06-.94-.94-2.06-.94 2.06-2.06.94z\"/><path d=\"M17.41 7.96l-1.37-1.37c-.4-.4-.92-.59-1.43-.59-.52 0-1.04.2-1.43.59L10.3 9.45l-7.72 7.72c-.78.78-.78 2.05 0 2.83L4 21.41c.39.39.9.59 1.41.59.51 0 1.02-.2 1.41-.59l7.78-7.78 2.81-2.81c.8-.78.8-2.07 0-2.86zM5.41 20L4 18.59l7.72-7.72 1.47 1.35L5.41 20z\"/>\n",
              "  </svg>\n",
              "      </button>\n",
              "      \n",
              "  <style>\n",
              "    .colab-df-container {\n",
              "      display:flex;\n",
              "      flex-wrap:wrap;\n",
              "      gap: 12px;\n",
              "    }\n",
              "\n",
              "    .colab-df-convert {\n",
              "      background-color: #E8F0FE;\n",
              "      border: none;\n",
              "      border-radius: 50%;\n",
              "      cursor: pointer;\n",
              "      display: none;\n",
              "      fill: #1967D2;\n",
              "      height: 32px;\n",
              "      padding: 0 0 0 0;\n",
              "      width: 32px;\n",
              "    }\n",
              "\n",
              "    .colab-df-convert:hover {\n",
              "      background-color: #E2EBFA;\n",
              "      box-shadow: 0px 1px 2px rgba(60, 64, 67, 0.3), 0px 1px 3px 1px rgba(60, 64, 67, 0.15);\n",
              "      fill: #174EA6;\n",
              "    }\n",
              "\n",
              "    [theme=dark] .colab-df-convert {\n",
              "      background-color: #3B4455;\n",
              "      fill: #D2E3FC;\n",
              "    }\n",
              "\n",
              "    [theme=dark] .colab-df-convert:hover {\n",
              "      background-color: #434B5C;\n",
              "      box-shadow: 0px 1px 3px 1px rgba(0, 0, 0, 0.15);\n",
              "      filter: drop-shadow(0px 1px 2px rgba(0, 0, 0, 0.3));\n",
              "      fill: #FFFFFF;\n",
              "    }\n",
              "  </style>\n",
              "\n",
              "      <script>\n",
              "        const buttonEl =\n",
              "          document.querySelector('#df-dfca2696-6c25-427f-8d1e-decbec39ce76 button.colab-df-convert');\n",
              "        buttonEl.style.display =\n",
              "          google.colab.kernel.accessAllowed ? 'block' : 'none';\n",
              "\n",
              "        async function convertToInteractive(key) {\n",
              "          const element = document.querySelector('#df-dfca2696-6c25-427f-8d1e-decbec39ce76');\n",
              "          const dataTable =\n",
              "            await google.colab.kernel.invokeFunction('convertToInteractive',\n",
              "                                                     [key], {});\n",
              "          if (!dataTable) return;\n",
              "\n",
              "          const docLinkHtml = 'Like what you see? Visit the ' +\n",
              "            '<a target=\"_blank\" href=https://colab.research.google.com/notebooks/data_table.ipynb>data table notebook</a>'\n",
              "            + ' to learn more about interactive tables.';\n",
              "          element.innerHTML = '';\n",
              "          dataTable['output_type'] = 'display_data';\n",
              "          await google.colab.output.renderOutput(dataTable, element);\n",
              "          const docLink = document.createElement('div');\n",
              "          docLink.innerHTML = docLinkHtml;\n",
              "          element.appendChild(docLink);\n",
              "        }\n",
              "      </script>\n",
              "    </div>\n",
              "  </div>\n",
              "  "
            ]
          },
          "metadata": {},
          "execution_count": 4
        }
      ]
    },
    {
      "cell_type": "markdown",
      "source": [
        "> 💡**Tip**\n",
        ">\n",
        "> GUI나 구글 코랩의 파일 패키지를 사용하여 업로드한 파일은 colab을 닫으면 사라집니다. 반면에 구글 드라이브에 업로드한 파일은 colab을 재실행 하여도 그대로 남아있습니다. "
      ],
      "metadata": {
        "id": "aCxYLgbUMNtR"
      }
    },
    {
      "cell_type": "markdown",
      "source": [
        "# **Part 2. 데이터 유형**\n",
        "데이터는 크게 수치형과 범주형의 두 종류로 나눌 수 있습니다. "
      ],
      "metadata": {
        "id": "Y_XWJ_dnUOS9"
      }
    },
    {
      "cell_type": "markdown",
      "source": [
        "## **2-1. 수치형(numeric)**\n",
        "수치적 의미의 값을 지닌 데이터입니다. "
      ],
      "metadata": {
        "id": "rY3SVMzbQfu8"
      }
    },
    {
      "cell_type": "markdown",
      "source": [
        "### **a. 연속형(continuous)**\n",
        "- 일정 범위 안에서 어떤 값이든 취할 수 있는 데이터입니다. \n",
        "- 실수형, 수치형 데이터라고도 합니다. "
      ],
      "metadata": {
        "id": "p-uFj8xfU8V-"
      }
    },
    {
      "cell_type": "markdown",
      "source": [
        "### **b. 이산형(discrete)**\n",
        "정수로만 나타낼 수 있는 데이터입니다. "
      ],
      "metadata": {
        "id": "TwnAhGXpU-Zg"
      }
    },
    {
      "cell_type": "markdown",
      "source": [
        "## **2-2. 범주형(categorical)**\n",
        "수치적 의미를 지니지 않고, 정해진 범주의 값만을 갖는 데이터입니다. "
      ],
      "metadata": {
        "id": "r5f5qsj1QhSr"
      }
    },
    {
      "cell_type": "markdown",
      "source": [
        "### **a. 이진형(binary)**\n",
        "0/1, 성공/실패, 예/아니오 등 두 값 중 하나를 갖는 데이터입니다. "
      ],
      "metadata": {
        "id": "fTxaelpcVEGV"
      }
    },
    {
      "cell_type": "markdown",
      "source": [
        "### **b. 순서형(ordinal)**\n",
        "1등급/2등급/3등급 등과 같이 범주 안의 값들이 순위를 갖습니다. "
      ],
      "metadata": {
        "id": "xiOfvNkOVFfI"
      }
    },
    {
      "cell_type": "markdown",
      "source": [
        "> 💡**Tip**\n",
        "- 각 유형의 예시에는 어떤 것들이 있을지 생각해 보세요.\n",
        "- 데이터를 유형별로 나누어 살펴보는 이유는 무엇일까요? 데이터 유형에 따라 적절한 시각화와 통계적 기법을 활영하는 것이 데이터 분석 및 모델링에서 중요하기 때문입니다. "
      ],
      "metadata": {
        "id": "9JTS-v7fhxXR"
      }
    },
    {
      "cell_type": "markdown",
      "source": [
        "# **Part 3. non-graph : 통계적 기법**\n",
        "그래픽적인 요소를 사용하지 않고, 주로 Summary Statistics(요약 통계치)를 통해 데이터를 확인하는 방법입니다."
      ],
      "metadata": {
        "id": "DdhTd2FexBAR"
      }
    },
    {
      "cell_type": "code",
      "source": [
        "# seaborn 라이브러리\b의 \"tips\" 데이터셋 불러오기\n",
        "import seaborn as sns\n",
        "\n",
        "df = sns.load_dataset(\"tips\")\n",
        "df"
      ],
      "metadata": {
        "colab": {
          "base_uri": "https://localhost:8080/",
          "height": 424
        },
        "id": "1wM36B18XlgE",
        "outputId": "85f27e97-69c3-423d-e9b0-53a4e8fe77e1"
      },
      "execution_count": null,
      "outputs": [
        {
          "output_type": "execute_result",
          "data": {
            "text/plain": [
              "     total_bill   tip     sex smoker   day    time  size\n",
              "0         16.99  1.01  Female     No   Sun  Dinner     2\n",
              "1         10.34  1.66    Male     No   Sun  Dinner     3\n",
              "2         21.01  3.50    Male     No   Sun  Dinner     3\n",
              "3         23.68  3.31    Male     No   Sun  Dinner     2\n",
              "4         24.59  3.61  Female     No   Sun  Dinner     4\n",
              "..          ...   ...     ...    ...   ...     ...   ...\n",
              "239       29.03  5.92    Male     No   Sat  Dinner     3\n",
              "240       27.18  2.00  Female    Yes   Sat  Dinner     2\n",
              "241       22.67  2.00    Male    Yes   Sat  Dinner     2\n",
              "242       17.82  1.75    Male     No   Sat  Dinner     2\n",
              "243       18.78  3.00  Female     No  Thur  Dinner     2\n",
              "\n",
              "[244 rows x 7 columns]"
            ],
            "text/html": [
              "\n",
              "  <div id=\"df-9310c8be-4db3-484f-9719-89aac8df3ff7\">\n",
              "    <div class=\"colab-df-container\">\n",
              "      <div>\n",
              "<style scoped>\n",
              "    .dataframe tbody tr th:only-of-type {\n",
              "        vertical-align: middle;\n",
              "    }\n",
              "\n",
              "    .dataframe tbody tr th {\n",
              "        vertical-align: top;\n",
              "    }\n",
              "\n",
              "    .dataframe thead th {\n",
              "        text-align: right;\n",
              "    }\n",
              "</style>\n",
              "<table border=\"1\" class=\"dataframe\">\n",
              "  <thead>\n",
              "    <tr style=\"text-align: right;\">\n",
              "      <th></th>\n",
              "      <th>total_bill</th>\n",
              "      <th>tip</th>\n",
              "      <th>sex</th>\n",
              "      <th>smoker</th>\n",
              "      <th>day</th>\n",
              "      <th>time</th>\n",
              "      <th>size</th>\n",
              "    </tr>\n",
              "  </thead>\n",
              "  <tbody>\n",
              "    <tr>\n",
              "      <th>0</th>\n",
              "      <td>16.99</td>\n",
              "      <td>1.01</td>\n",
              "      <td>Female</td>\n",
              "      <td>No</td>\n",
              "      <td>Sun</td>\n",
              "      <td>Dinner</td>\n",
              "      <td>2</td>\n",
              "    </tr>\n",
              "    <tr>\n",
              "      <th>1</th>\n",
              "      <td>10.34</td>\n",
              "      <td>1.66</td>\n",
              "      <td>Male</td>\n",
              "      <td>No</td>\n",
              "      <td>Sun</td>\n",
              "      <td>Dinner</td>\n",
              "      <td>3</td>\n",
              "    </tr>\n",
              "    <tr>\n",
              "      <th>2</th>\n",
              "      <td>21.01</td>\n",
              "      <td>3.50</td>\n",
              "      <td>Male</td>\n",
              "      <td>No</td>\n",
              "      <td>Sun</td>\n",
              "      <td>Dinner</td>\n",
              "      <td>3</td>\n",
              "    </tr>\n",
              "    <tr>\n",
              "      <th>3</th>\n",
              "      <td>23.68</td>\n",
              "      <td>3.31</td>\n",
              "      <td>Male</td>\n",
              "      <td>No</td>\n",
              "      <td>Sun</td>\n",
              "      <td>Dinner</td>\n",
              "      <td>2</td>\n",
              "    </tr>\n",
              "    <tr>\n",
              "      <th>4</th>\n",
              "      <td>24.59</td>\n",
              "      <td>3.61</td>\n",
              "      <td>Female</td>\n",
              "      <td>No</td>\n",
              "      <td>Sun</td>\n",
              "      <td>Dinner</td>\n",
              "      <td>4</td>\n",
              "    </tr>\n",
              "    <tr>\n",
              "      <th>...</th>\n",
              "      <td>...</td>\n",
              "      <td>...</td>\n",
              "      <td>...</td>\n",
              "      <td>...</td>\n",
              "      <td>...</td>\n",
              "      <td>...</td>\n",
              "      <td>...</td>\n",
              "    </tr>\n",
              "    <tr>\n",
              "      <th>239</th>\n",
              "      <td>29.03</td>\n",
              "      <td>5.92</td>\n",
              "      <td>Male</td>\n",
              "      <td>No</td>\n",
              "      <td>Sat</td>\n",
              "      <td>Dinner</td>\n",
              "      <td>3</td>\n",
              "    </tr>\n",
              "    <tr>\n",
              "      <th>240</th>\n",
              "      <td>27.18</td>\n",
              "      <td>2.00</td>\n",
              "      <td>Female</td>\n",
              "      <td>Yes</td>\n",
              "      <td>Sat</td>\n",
              "      <td>Dinner</td>\n",
              "      <td>2</td>\n",
              "    </tr>\n",
              "    <tr>\n",
              "      <th>241</th>\n",
              "      <td>22.67</td>\n",
              "      <td>2.00</td>\n",
              "      <td>Male</td>\n",
              "      <td>Yes</td>\n",
              "      <td>Sat</td>\n",
              "      <td>Dinner</td>\n",
              "      <td>2</td>\n",
              "    </tr>\n",
              "    <tr>\n",
              "      <th>242</th>\n",
              "      <td>17.82</td>\n",
              "      <td>1.75</td>\n",
              "      <td>Male</td>\n",
              "      <td>No</td>\n",
              "      <td>Sat</td>\n",
              "      <td>Dinner</td>\n",
              "      <td>2</td>\n",
              "    </tr>\n",
              "    <tr>\n",
              "      <th>243</th>\n",
              "      <td>18.78</td>\n",
              "      <td>3.00</td>\n",
              "      <td>Female</td>\n",
              "      <td>No</td>\n",
              "      <td>Thur</td>\n",
              "      <td>Dinner</td>\n",
              "      <td>2</td>\n",
              "    </tr>\n",
              "  </tbody>\n",
              "</table>\n",
              "<p>244 rows × 7 columns</p>\n",
              "</div>\n",
              "      <button class=\"colab-df-convert\" onclick=\"convertToInteractive('df-9310c8be-4db3-484f-9719-89aac8df3ff7')\"\n",
              "              title=\"Convert this dataframe to an interactive table.\"\n",
              "              style=\"display:none;\">\n",
              "        \n",
              "  <svg xmlns=\"http://www.w3.org/2000/svg\" height=\"24px\"viewBox=\"0 0 24 24\"\n",
              "       width=\"24px\">\n",
              "    <path d=\"M0 0h24v24H0V0z\" fill=\"none\"/>\n",
              "    <path d=\"M18.56 5.44l.94 2.06.94-2.06 2.06-.94-2.06-.94-.94-2.06-.94 2.06-2.06.94zm-11 1L8.5 8.5l.94-2.06 2.06-.94-2.06-.94L8.5 2.5l-.94 2.06-2.06.94zm10 10l.94 2.06.94-2.06 2.06-.94-2.06-.94-.94-2.06-.94 2.06-2.06.94z\"/><path d=\"M17.41 7.96l-1.37-1.37c-.4-.4-.92-.59-1.43-.59-.52 0-1.04.2-1.43.59L10.3 9.45l-7.72 7.72c-.78.78-.78 2.05 0 2.83L4 21.41c.39.39.9.59 1.41.59.51 0 1.02-.2 1.41-.59l7.78-7.78 2.81-2.81c.8-.78.8-2.07 0-2.86zM5.41 20L4 18.59l7.72-7.72 1.47 1.35L5.41 20z\"/>\n",
              "  </svg>\n",
              "      </button>\n",
              "      \n",
              "  <style>\n",
              "    .colab-df-container {\n",
              "      display:flex;\n",
              "      flex-wrap:wrap;\n",
              "      gap: 12px;\n",
              "    }\n",
              "\n",
              "    .colab-df-convert {\n",
              "      background-color: #E8F0FE;\n",
              "      border: none;\n",
              "      border-radius: 50%;\n",
              "      cursor: pointer;\n",
              "      display: none;\n",
              "      fill: #1967D2;\n",
              "      height: 32px;\n",
              "      padding: 0 0 0 0;\n",
              "      width: 32px;\n",
              "    }\n",
              "\n",
              "    .colab-df-convert:hover {\n",
              "      background-color: #E2EBFA;\n",
              "      box-shadow: 0px 1px 2px rgba(60, 64, 67, 0.3), 0px 1px 3px 1px rgba(60, 64, 67, 0.15);\n",
              "      fill: #174EA6;\n",
              "    }\n",
              "\n",
              "    [theme=dark] .colab-df-convert {\n",
              "      background-color: #3B4455;\n",
              "      fill: #D2E3FC;\n",
              "    }\n",
              "\n",
              "    [theme=dark] .colab-df-convert:hover {\n",
              "      background-color: #434B5C;\n",
              "      box-shadow: 0px 1px 3px 1px rgba(0, 0, 0, 0.15);\n",
              "      filter: drop-shadow(0px 1px 2px rgba(0, 0, 0, 0.3));\n",
              "      fill: #FFFFFF;\n",
              "    }\n",
              "  </style>\n",
              "\n",
              "      <script>\n",
              "        const buttonEl =\n",
              "          document.querySelector('#df-9310c8be-4db3-484f-9719-89aac8df3ff7 button.colab-df-convert');\n",
              "        buttonEl.style.display =\n",
              "          google.colab.kernel.accessAllowed ? 'block' : 'none';\n",
              "\n",
              "        async function convertToInteractive(key) {\n",
              "          const element = document.querySelector('#df-9310c8be-4db3-484f-9719-89aac8df3ff7');\n",
              "          const dataTable =\n",
              "            await google.colab.kernel.invokeFunction('convertToInteractive',\n",
              "                                                     [key], {});\n",
              "          if (!dataTable) return;\n",
              "\n",
              "          const docLinkHtml = 'Like what you see? Visit the ' +\n",
              "            '<a target=\"_blank\" href=https://colab.research.google.com/notebooks/data_table.ipynb>data table notebook</a>'\n",
              "            + ' to learn more about interactive tables.';\n",
              "          element.innerHTML = '';\n",
              "          dataTable['output_type'] = 'display_data';\n",
              "          await google.colab.output.renderOutput(dataTable, element);\n",
              "          const docLink = document.createElement('div');\n",
              "          docLink.innerHTML = docLinkHtml;\n",
              "          element.appendChild(docLink);\n",
              "        }\n",
              "      </script>\n",
              "    </div>\n",
              "  </div>\n",
              "  "
            ]
          },
          "metadata": {},
          "execution_count": 34
        }
      ]
    },
    {
      "cell_type": "markdown",
      "source": [
        "## **3-1. 대푯값(typical value)**\n",
        "전체 데이터의 특징을 대표하는 값으로 데이터 중심이 어디에 위치하는지 추정할 수 있습니다. "
      ],
      "metadata": {
        "id": "N3BCYnAExElt"
      }
    },
    {
      "cell_type": "markdown",
      "source": [
        "### **a. 평균(mean)**\n",
        "- 수치형 데이터에 적합한 통계치입니다.\n",
        "- 모든 데이터의 총합을 데이터 수로 나눈 값입니다. \n",
        "- `.mean()` 또는 [`np.mean()`](https://numpy.org/doc/stable/reference/generated/numpy.mean.html)을 사용해 구할 수 있습니다. "
      ],
      "metadata": {
        "id": "AFYxd64HyFCM"
      }
    },
    {
      "cell_type": "code",
      "source": [
        "# .mean()을 사용하여 평균 구하기\n",
        "df['total_bill'].mean()"
      ],
      "metadata": {
        "colab": {
          "base_uri": "https://localhost:8080/"
        },
        "id": "Jq5siingzh1H",
        "outputId": "e5e32b35-220f-4f40-be30-3fc0ffcb6608"
      },
      "execution_count": null,
      "outputs": [
        {
          "output_type": "execute_result",
          "data": {
            "text/plain": [
              "19.785942622950824"
            ]
          },
          "metadata": {},
          "execution_count": 49
        }
      ]
    },
    {
      "cell_type": "code",
      "source": [
        "# np.mean()을 사용하여 평균 구하기\n",
        "np.mean(df['total_bill'])"
      ],
      "metadata": {
        "colab": {
          "base_uri": "https://localhost:8080/"
        },
        "id": "6XTZoj3CzyiH",
        "outputId": "4b0232d2-79b8-4987-d6f3-f1fe4224ada1"
      },
      "execution_count": null,
      "outputs": [
        {
          "output_type": "execute_result",
          "data": {
            "text/plain": [
              "19.785942622950824"
            ]
          },
          "metadata": {},
          "execution_count": 45
        }
      ]
    },
    {
      "cell_type": "markdown",
      "source": [
        "### **b. 중앙값(median)**\n",
        "- 수치형 데이터에 적합한 통계치입니다.\n",
        "- 데이터를 작은 것부터 차례대로 나열했을 때 한가운데에 위치한 값입니다. \n",
        "- `.median()` 또는 [`np.median()`](https://numpy.org/doc/stable/reference/generated/numpy.median.html)을 사용해 구할 수 있습니다. "
      ],
      "metadata": {
        "id": "utxOmDDZ0RZX"
      }
    },
    {
      "cell_type": "code",
      "source": [
        "# .median()을 사용해 중앙값 구하기\n",
        "df['total_bill'].median()"
      ],
      "metadata": {
        "colab": {
          "base_uri": "https://localhost:8080/"
        },
        "id": "XNjOGWAv2jcU",
        "outputId": "34383684-cd5b-4fb5-9eb6-49d16b10e977"
      },
      "execution_count": null,
      "outputs": [
        {
          "output_type": "execute_result",
          "data": {
            "text/plain": [
              "17.795"
            ]
          },
          "metadata": {},
          "execution_count": 50
        }
      ]
    },
    {
      "cell_type": "code",
      "source": [
        "# np.median()을 사용해 중앙값 구하기\n",
        "np.median(df['total_bill'])"
      ],
      "metadata": {
        "colab": {
          "base_uri": "https://localhost:8080/"
        },
        "id": "a6nJjqft2n1z",
        "outputId": "6935d257-9578-44fc-f750-fc175711dbef"
      },
      "execution_count": null,
      "outputs": [
        {
          "output_type": "execute_result",
          "data": {
            "text/plain": [
              "17.795"
            ]
          },
          "metadata": {},
          "execution_count": 51
        }
      ]
    },
    {
      "cell_type": "markdown",
      "source": [
        "> **💡Tip**\n",
        "- 데이터의 개수가 짝수일 때에는 중앙값을 어떻게 구할 수 있을지 알아보세요.\n",
        "- 평균과 중앙값은 각각 어떤 상황에 적합할지 설명해 보세요."
      ],
      "metadata": {
        "id": "Zjo2Mbev1pCy"
      }
    },
    {
      "cell_type": "code",
      "source": [
        "# .describe()을 사용해 요약 통계치(summary statistics) 구하기\n",
        "df.describe() # 수치형 데이터에 대해서만 개수, 평균, 사분위수, 최솟값, 최댓값, 표준편차를 나타냅니다. "
      ],
      "metadata": {
        "colab": {
          "base_uri": "https://localhost:8080/",
          "height": 300
        },
        "id": "L-GfLg_p36qp",
        "outputId": "2002be3a-26d7-4b62-e452-b85c679e0938"
      },
      "execution_count": null,
      "outputs": [
        {
          "output_type": "execute_result",
          "data": {
            "text/plain": [
              "       total_bill         tip        size\n",
              "count  244.000000  244.000000  244.000000\n",
              "mean    19.785943    2.998279    2.569672\n",
              "std      8.902412    1.383638    0.951100\n",
              "min      3.070000    1.000000    1.000000\n",
              "25%     13.347500    2.000000    2.000000\n",
              "50%     17.795000    2.900000    2.000000\n",
              "75%     24.127500    3.562500    3.000000\n",
              "max     50.810000   10.000000    6.000000"
            ],
            "text/html": [
              "\n",
              "  <div id=\"df-ec012c05-51c8-47a3-8b68-fdd21b4ba333\">\n",
              "    <div class=\"colab-df-container\">\n",
              "      <div>\n",
              "<style scoped>\n",
              "    .dataframe tbody tr th:only-of-type {\n",
              "        vertical-align: middle;\n",
              "    }\n",
              "\n",
              "    .dataframe tbody tr th {\n",
              "        vertical-align: top;\n",
              "    }\n",
              "\n",
              "    .dataframe thead th {\n",
              "        text-align: right;\n",
              "    }\n",
              "</style>\n",
              "<table border=\"1\" class=\"dataframe\">\n",
              "  <thead>\n",
              "    <tr style=\"text-align: right;\">\n",
              "      <th></th>\n",
              "      <th>total_bill</th>\n",
              "      <th>tip</th>\n",
              "      <th>size</th>\n",
              "    </tr>\n",
              "  </thead>\n",
              "  <tbody>\n",
              "    <tr>\n",
              "      <th>count</th>\n",
              "      <td>244.000000</td>\n",
              "      <td>244.000000</td>\n",
              "      <td>244.000000</td>\n",
              "    </tr>\n",
              "    <tr>\n",
              "      <th>mean</th>\n",
              "      <td>19.785943</td>\n",
              "      <td>2.998279</td>\n",
              "      <td>2.569672</td>\n",
              "    </tr>\n",
              "    <tr>\n",
              "      <th>std</th>\n",
              "      <td>8.902412</td>\n",
              "      <td>1.383638</td>\n",
              "      <td>0.951100</td>\n",
              "    </tr>\n",
              "    <tr>\n",
              "      <th>min</th>\n",
              "      <td>3.070000</td>\n",
              "      <td>1.000000</td>\n",
              "      <td>1.000000</td>\n",
              "    </tr>\n",
              "    <tr>\n",
              "      <th>25%</th>\n",
              "      <td>13.347500</td>\n",
              "      <td>2.000000</td>\n",
              "      <td>2.000000</td>\n",
              "    </tr>\n",
              "    <tr>\n",
              "      <th>50%</th>\n",
              "      <td>17.795000</td>\n",
              "      <td>2.900000</td>\n",
              "      <td>2.000000</td>\n",
              "    </tr>\n",
              "    <tr>\n",
              "      <th>75%</th>\n",
              "      <td>24.127500</td>\n",
              "      <td>3.562500</td>\n",
              "      <td>3.000000</td>\n",
              "    </tr>\n",
              "    <tr>\n",
              "      <th>max</th>\n",
              "      <td>50.810000</td>\n",
              "      <td>10.000000</td>\n",
              "      <td>6.000000</td>\n",
              "    </tr>\n",
              "  </tbody>\n",
              "</table>\n",
              "</div>\n",
              "      <button class=\"colab-df-convert\" onclick=\"convertToInteractive('df-ec012c05-51c8-47a3-8b68-fdd21b4ba333')\"\n",
              "              title=\"Convert this dataframe to an interactive table.\"\n",
              "              style=\"display:none;\">\n",
              "        \n",
              "  <svg xmlns=\"http://www.w3.org/2000/svg\" height=\"24px\"viewBox=\"0 0 24 24\"\n",
              "       width=\"24px\">\n",
              "    <path d=\"M0 0h24v24H0V0z\" fill=\"none\"/>\n",
              "    <path d=\"M18.56 5.44l.94 2.06.94-2.06 2.06-.94-2.06-.94-.94-2.06-.94 2.06-2.06.94zm-11 1L8.5 8.5l.94-2.06 2.06-.94-2.06-.94L8.5 2.5l-.94 2.06-2.06.94zm10 10l.94 2.06.94-2.06 2.06-.94-2.06-.94-.94-2.06-.94 2.06-2.06.94z\"/><path d=\"M17.41 7.96l-1.37-1.37c-.4-.4-.92-.59-1.43-.59-.52 0-1.04.2-1.43.59L10.3 9.45l-7.72 7.72c-.78.78-.78 2.05 0 2.83L4 21.41c.39.39.9.59 1.41.59.51 0 1.02-.2 1.41-.59l7.78-7.78 2.81-2.81c.8-.78.8-2.07 0-2.86zM5.41 20L4 18.59l7.72-7.72 1.47 1.35L5.41 20z\"/>\n",
              "  </svg>\n",
              "      </button>\n",
              "      \n",
              "  <style>\n",
              "    .colab-df-container {\n",
              "      display:flex;\n",
              "      flex-wrap:wrap;\n",
              "      gap: 12px;\n",
              "    }\n",
              "\n",
              "    .colab-df-convert {\n",
              "      background-color: #E8F0FE;\n",
              "      border: none;\n",
              "      border-radius: 50%;\n",
              "      cursor: pointer;\n",
              "      display: none;\n",
              "      fill: #1967D2;\n",
              "      height: 32px;\n",
              "      padding: 0 0 0 0;\n",
              "      width: 32px;\n",
              "    }\n",
              "\n",
              "    .colab-df-convert:hover {\n",
              "      background-color: #E2EBFA;\n",
              "      box-shadow: 0px 1px 2px rgba(60, 64, 67, 0.3), 0px 1px 3px 1px rgba(60, 64, 67, 0.15);\n",
              "      fill: #174EA6;\n",
              "    }\n",
              "\n",
              "    [theme=dark] .colab-df-convert {\n",
              "      background-color: #3B4455;\n",
              "      fill: #D2E3FC;\n",
              "    }\n",
              "\n",
              "    [theme=dark] .colab-df-convert:hover {\n",
              "      background-color: #434B5C;\n",
              "      box-shadow: 0px 1px 3px 1px rgba(0, 0, 0, 0.15);\n",
              "      filter: drop-shadow(0px 1px 2px rgba(0, 0, 0, 0.3));\n",
              "      fill: #FFFFFF;\n",
              "    }\n",
              "  </style>\n",
              "\n",
              "      <script>\n",
              "        const buttonEl =\n",
              "          document.querySelector('#df-ec012c05-51c8-47a3-8b68-fdd21b4ba333 button.colab-df-convert');\n",
              "        buttonEl.style.display =\n",
              "          google.colab.kernel.accessAllowed ? 'block' : 'none';\n",
              "\n",
              "        async function convertToInteractive(key) {\n",
              "          const element = document.querySelector('#df-ec012c05-51c8-47a3-8b68-fdd21b4ba333');\n",
              "          const dataTable =\n",
              "            await google.colab.kernel.invokeFunction('convertToInteractive',\n",
              "                                                     [key], {});\n",
              "          if (!dataTable) return;\n",
              "\n",
              "          const docLinkHtml = 'Like what you see? Visit the ' +\n",
              "            '<a target=\"_blank\" href=https://colab.research.google.com/notebooks/data_table.ipynb>data table notebook</a>'\n",
              "            + ' to learn more about interactive tables.';\n",
              "          element.innerHTML = '';\n",
              "          dataTable['output_type'] = 'display_data';\n",
              "          await google.colab.output.renderOutput(dataTable, element);\n",
              "          const docLink = document.createElement('div');\n",
              "          docLink.innerHTML = docLinkHtml;\n",
              "          element.appendChild(docLink);\n",
              "        }\n",
              "      </script>\n",
              "    </div>\n",
              "  </div>\n",
              "  "
            ]
          },
          "metadata": {},
          "execution_count": 52
        }
      ]
    },
    {
      "cell_type": "markdown",
      "source": [
        "### **c. 최빈값(mode)**\n",
        "- 범주형 데이터에 적합한 통계치입니다. \n",
        "- 데이터 중 가장 자주 등장하는 값입니다. \n",
        "- `.mode()` 또는 [`.value_count()`](https://pandas.pydata.org/docs/reference/api/pandas.Series.value_counts.html)를 사용해 구할 수 있습니다. "
      ],
      "metadata": {
        "id": "NUUG8R-e2rYw"
      }
    },
    {
      "cell_type": "code",
      "source": [
        "# .mode()를 사용해 최빈값 구하기\n",
        "df['size'].mode() # `size` 값은 정수로 되어있지만 범주형 의미를 지니므로 최빈값을 구해 봅니다. "
      ],
      "metadata": {
        "colab": {
          "base_uri": "https://localhost:8080/"
        },
        "id": "e483nYK35ErJ",
        "outputId": "6f51da46-2579-4037-eae3-945ae22b0f08"
      },
      "execution_count": null,
      "outputs": [
        {
          "output_type": "execute_result",
          "data": {
            "text/plain": [
              "0    2\n",
              "dtype: int64"
            ]
          },
          "metadata": {},
          "execution_count": 53
        }
      ]
    },
    {
      "cell_type": "code",
      "source": [
        "# .value_counts()를 사용해 도수분포표 구하기 \n",
        "df['size'].value_counts()"
      ],
      "metadata": {
        "colab": {
          "base_uri": "https://localhost:8080/"
        },
        "id": "V4qnDs-j5k5d",
        "outputId": "c13364cd-f8f7-4dde-c299-684125cd76a1"
      },
      "execution_count": null,
      "outputs": [
        {
          "output_type": "execute_result",
          "data": {
            "text/plain": [
              "2    156\n",
              "3     38\n",
              "4     37\n",
              "5      5\n",
              "1      4\n",
              "6      4\n",
              "Name: size, dtype: int64"
            ]
          },
          "metadata": {},
          "execution_count": 55
        }
      ]
    },
    {
      "cell_type": "markdown",
      "source": [
        "## **3-2. 산포도(dispersion)**\n",
        "데이터가 흩어져 있는 정도를 하나의 값으로 나타낸 것입니다. "
      ],
      "metadata": {
        "id": "SuDPBzT6xGYj"
      }
    },
    {
      "cell_type": "markdown",
      "source": [
        "### **a. 편차(deviation)**\n",
        "- 데이터와 대푯값의 차이($x-\\bar{x}$)입니다. \n",
        "- 데이터가 대푯값을 기준으로 얼마나 흩어져 있는지 나타냅니다. \n",
        "- 편차의 합은 항상 $0$입니다. "
      ],
      "metadata": {
        "id": "xxMJ9k_3MHZX"
      }
    },
    {
      "cell_type": "markdown",
      "source": [
        "> 💡**Tip**\n",
        ">\n",
        "> 편차는 데이터와 대푯값의 차이이므로 데이터 개수만큼 존재합니다. <br>\n",
        "그렇다면 편차의 대푯값은 어떻게 구할 수 있을까요? <br>\n",
        "편차의 합은 $0$이므로 편차의 평균을 구하는 것은 바람직하지 않습니다. "
      ],
      "metadata": {
        "id": "cN3ExfKIM4p1"
      }
    },
    {
      "cell_type": "markdown",
      "source": [
        "### **b. 분산(variance)**\n",
        "- 편차 제곱의 평균입니다. \n",
        "- [`.var()`](https://pandas.pydata.org/docs/reference/api/pandas.DataFrame.var.html) 또는 [`np.var()`](https://numpy.org/doc/stable/reference/generated/numpy.var.html)를 사용해 구할 수 있습니다. "
      ],
      "metadata": {
        "id": "KLW8fp9UNP5U"
      }
    },
    {
      "cell_type": "code",
      "source": [
        "# 편차\n",
        "diff = df['total_bill'] - np.mean(df['total_bill'])\n",
        "diff"
      ],
      "metadata": {
        "colab": {
          "base_uri": "https://localhost:8080/"
        },
        "id": "tp8uKL_CO34z",
        "outputId": "719f0647-e599-4911-c2ee-5352359df2b7"
      },
      "execution_count": null,
      "outputs": [
        {
          "output_type": "execute_result",
          "data": {
            "text/plain": [
              "0     -2.795943\n",
              "1     -9.445943\n",
              "2      1.224057\n",
              "3      3.894057\n",
              "4      4.804057\n",
              "         ...   \n",
              "239    9.244057\n",
              "240    7.394057\n",
              "241    2.884057\n",
              "242   -1.965943\n",
              "243   -1.005943\n",
              "Name: total_bill, Length: 244, dtype: float64"
            ]
          },
          "metadata": {},
          "execution_count": 56
        }
      ]
    },
    {
      "cell_type": "code",
      "source": [
        "# 편차의 제곱\n",
        "diff_sq = diff**2\n",
        "diff_sq"
      ],
      "metadata": {
        "colab": {
          "base_uri": "https://localhost:8080/"
        },
        "id": "SiW3MNtYO8Rg",
        "outputId": "0e96aa1c-2896-49cd-caf6-3ab923d79fde"
      },
      "execution_count": null,
      "outputs": [
        {
          "output_type": "execute_result",
          "data": {
            "text/plain": [
              "0       7.817295\n",
              "1      89.225832\n",
              "2       1.498316\n",
              "3      15.163683\n",
              "4      23.078967\n",
              "         ...    \n",
              "239    85.452597\n",
              "240    54.672084\n",
              "241     8.317787\n",
              "242     3.864930\n",
              "243     1.011921\n",
              "Name: total_bill, Length: 244, dtype: float64"
            ]
          },
          "metadata": {},
          "execution_count": 57
        }
      ]
    },
    {
      "cell_type": "code",
      "source": [
        "# 편차 제곱의 평균\n",
        "sum(diff_sq)/len(df['total_bill'])"
      ],
      "metadata": {
        "colab": {
          "base_uri": "https://localhost:8080/"
        },
        "id": "fxcfT4vNPBe3",
        "outputId": "4108d77d-8c79-4c04-c179-3d63851c2c60"
      },
      "execution_count": null,
      "outputs": [
        {
          "output_type": "execute_result",
          "data": {
            "text/plain": [
              "78.92813148851113"
            ]
          },
          "metadata": {},
          "execution_count": 59
        }
      ]
    },
    {
      "cell_type": "code",
      "source": [
        "# np.var()를 사용하여 분산 구하기\n",
        "np.var(df['total_bill'])"
      ],
      "metadata": {
        "colab": {
          "base_uri": "https://localhost:8080/"
        },
        "id": "US1BZRcQN_A8",
        "outputId": "46f6cb10-24d8-4506-83fa-47f07a62a18e"
      },
      "execution_count": null,
      "outputs": [
        {
          "output_type": "execute_result",
          "data": {
            "text/plain": [
              "78.92813148851113"
            ]
          },
          "metadata": {},
          "execution_count": 61
        }
      ]
    },
    {
      "cell_type": "code",
      "source": [
        "np.var(df) # 분산이 클수록 데이터가 대푯값으로부터 멀리 떨어져 있습니다. 즉, 분산이 작을수록 데이터가 밀집해 있습니다. "
      ],
      "metadata": {
        "colab": {
          "base_uri": "https://localhost:8080/"
        },
        "id": "6Xz8dyxLRvEQ",
        "outputId": "62c83f78-7b07-47dd-9dd2-453d65e87abb"
      },
      "execution_count": null,
      "outputs": [
        {
          "output_type": "stream",
          "name": "stderr",
          "text": [
            "/usr/local/lib/python3.7/dist-packages/numpy/core/fromnumeric.py:3721: FutureWarning: Dropping of nuisance columns in DataFrame reductions (with 'numeric_only=None') is deprecated; in a future version this will raise TypeError.  Select only valid columns before calling the reduction.\n",
            "  return var(axis=axis, dtype=dtype, out=out, ddof=ddof, **kwargs)\n"
          ]
        },
        {
          "output_type": "execute_result",
          "data": {
            "text/plain": [
              "total_bill    78.928131\n",
              "tip            1.906609\n",
              "size           0.900883\n",
              "dtype: float64"
            ]
          },
          "metadata": {},
          "execution_count": 62
        }
      ]
    },
    {
      "cell_type": "code",
      "source": [
        "# df.var()를 사용하여 분산 구하기 \n",
        "df['total_bill'].var()"
      ],
      "metadata": {
        "colab": {
          "base_uri": "https://localhost:8080/"
        },
        "id": "9JDxX2ocPf3p",
        "outputId": "e302279a-6e4d-48cf-d9f6-0e66f4a19608"
      },
      "execution_count": null,
      "outputs": [
        {
          "output_type": "execute_result",
          "data": {
            "text/plain": [
              "79.25293861397826"
            ]
          },
          "metadata": {},
          "execution_count": 64
        }
      ]
    },
    {
      "cell_type": "code",
      "source": [
        "df['total_bill'].var(ddof=0)"
      ],
      "metadata": {
        "colab": {
          "base_uri": "https://localhost:8080/"
        },
        "id": "M2FmuEo9Tl6J",
        "outputId": "d8cd4138-bb3c-4413-ad76-81302ee49788"
      },
      "execution_count": null,
      "outputs": [
        {
          "output_type": "execute_result",
          "data": {
            "text/plain": [
              "78.92813148851113"
            ]
          },
          "metadata": {},
          "execution_count": 65
        }
      ]
    },
    {
      "cell_type": "markdown",
      "source": [
        "> 💡**Tip**\n",
        ">\n",
        "> `df.var()`와 `np.var()`는 서로 다른 값을 반환합니다.  왜일까요? <br>\n",
        "> 이는 `ddof` 파라미터의 디폴트 값에 따라 달라지는 것인데요. <br>\n",
        "> `ddof`는 분모를 $n$(데이터 개수)으로 나눌지, $n-1$로 나눌지 설정하는 파라미터입니다. <br>\n",
        "> 수학적으로는 $n$으로 나누는 것이 일반적이지만 통계적인 측면에서는 자유도에 따라 $n-1$로 나누어 줍니다. <br>\n",
        "> 하지만 데이터 사이언스에서는 빅데이터를 다루는만큼 $n$이 충분히 커서 그 차이가 그다지 중요하지는 않습니다. <br>\n",
        "> 자유도에 대한 설명은 통계를 다루는 sprint2에서 등장할 예정입니다. "
      ],
      "metadata": {
        "id": "PrNq3w1OQgLS"
      }
    },
    {
      "cell_type": "markdown",
      "source": [
        "### **c. 표준편차(standard deviation)**\n",
        "- 분산에 루트를 씌운 값($\\sqrt{(분산\\ )}$) $\\ $입니다.\n",
        "- [`.std()`](https://pandas.pydata.org/docs/reference/api/pandas.DataFrame.std.html) 또는 [`np.std()`](https://numpy.org/doc/stable/reference/generated/numpy.std.html)를 사용해 구할 수 있습니다."
      ],
      "metadata": {
        "id": "zU9AKf9KNRLD"
      }
    },
    {
      "cell_type": "code",
      "source": [
        "# np.std()를 사용해 표준편차 구하기\n",
        "np.std(df['total_bill'])"
      ],
      "metadata": {
        "colab": {
          "base_uri": "https://localhost:8080/"
        },
        "id": "Zm0f5hq0TRal",
        "outputId": "4e9b65bd-77b6-4db6-9c51-33406d1a88db"
      },
      "execution_count": null,
      "outputs": [
        {
          "output_type": "execute_result",
          "data": {
            "text/plain": [
              "8.88415057777113"
            ]
          },
          "metadata": {},
          "execution_count": 66
        }
      ]
    },
    {
      "cell_type": "code",
      "source": [
        "# 분산의 제곱근\n",
        "np.var(df['total_bill'])**(1/2)"
      ],
      "metadata": {
        "colab": {
          "base_uri": "https://localhost:8080/"
        },
        "id": "Mtas8O3STdai",
        "outputId": "3a84dfa4-cfa1-4815-d2e9-5a36835df835"
      },
      "execution_count": null,
      "outputs": [
        {
          "output_type": "execute_result",
          "data": {
            "text/plain": [
              "8.88415057777113"
            ]
          },
          "metadata": {},
          "execution_count": 67
        }
      ]
    },
    {
      "cell_type": "code",
      "source": [
        "# df.std()를 사용해 표준편차 구하기\n",
        "df['total_bill'].std()"
      ],
      "metadata": {
        "colab": {
          "base_uri": "https://localhost:8080/"
        },
        "id": "YEL37Dm6Te2_",
        "outputId": "b5a9fc3d-be6c-4473-94d4-677e4b872100"
      },
      "execution_count": null,
      "outputs": [
        {
          "output_type": "execute_result",
          "data": {
            "text/plain": [
              "8.902411954856856"
            ]
          },
          "metadata": {},
          "execution_count": 68
        }
      ]
    },
    {
      "cell_type": "code",
      "source": [
        "# 분산의 제곱근\n",
        "df['total_bill'].var()**(1/2)"
      ],
      "metadata": {
        "colab": {
          "base_uri": "https://localhost:8080/"
        },
        "id": "i6c0bqINTuxZ",
        "outputId": "aefc2e87-e649-45cf-a89d-3cbb6b662e83"
      },
      "execution_count": null,
      "outputs": [
        {
          "output_type": "execute_result",
          "data": {
            "text/plain": [
              "8.902411954856856"
            ]
          },
          "metadata": {},
          "execution_count": 69
        }
      ]
    },
    {
      "cell_type": "markdown",
      "source": [
        "### **d. 사분위수(quartile)**\n",
        "데이터를 4등분 하였을 때 1/4, 2/4(중앙값), 3/4 위치에 해당하는 값입니다. "
      ],
      "metadata": {
        "id": "-LOIO7YIWoHV"
      }
    },
    {
      "cell_type": "markdown",
      "source": [
        "# **Part 4. graph : 시각화**\n",
        "데이터를 그래프로 나타내어 분포나 변수들 간의 관계를 확인하는 방법입니다. "
      ],
      "metadata": {
        "id": "O5Tm3HQ5QdCj"
      }
    },
    {
      "cell_type": "markdown",
      "source": [
        "## **4-1. 데이터 분포 파악**\n",
        "- 변수가 하나인 단변량(Univariate)의 경우에는 데이터의 분포를 확인하는 것이 주 목적입니다. "
      ],
      "metadata": {
        "id": "XAWwdvGrFRPd"
      }
    },
    {
      "cell_type": "markdown",
      "source": [
        "### **a. Boxplot**\n",
        "수치형 데이터의 최솟값, 최댓값, 사분위수와 이상치를 한눈에 파악하기 유용한 그래프입니다. "
      ],
      "metadata": {
        "id": "-_gARIyVVPCd"
      }
    },
    {
      "cell_type": "code",
      "source": [
        "# matplotlib 라이브러리의 boxplot\n",
        "import matplotlib.pyplot as plt\n",
        "plt.boxplot(df['total_bill'])\n",
        "plt.xlabel('total_bill');"
      ],
      "metadata": {
        "colab": {
          "base_uri": "https://localhost:8080/",
          "height": 280
        },
        "id": "dVPCE8KnXjys",
        "outputId": "2a2bc0d3-0964-460e-b16c-a1257aa374c6"
      },
      "execution_count": null,
      "outputs": [
        {
          "output_type": "display_data",
          "data": {
            "text/plain": [
              "<Figure size 432x288 with 1 Axes>"
            ],
            "image/png": "[encoded data removed]"
          },
          "metadata": {
            "needs_background": "light"
          }
        }
      ]
    },
    {
      "cell_type": "code",
      "source": [
        "# seaborn 라이브러리의 boxplot\n",
        "sns.boxplot(data=df, x='total_bill');"
      ],
      "metadata": {
        "colab": {
          "base_uri": "https://localhost:8080/",
          "height": 280
        },
        "id": "ZaaT5ggkYQtO",
        "outputId": "6356227e-0a74-44a3-d4a4-1e8206287a5f"
      },
      "execution_count": null,
      "outputs": [
        {
          "output_type": "display_data",
          "data": {
            "text/plain": [
              "<Figure size 432x288 with 1 Axes>"
            ],
            "image/png": "[encoded data removed]"
          },
          "metadata": {
            "needs_background": "light"
          }
        }
      ]
    },
    {
      "cell_type": "markdown",
      "source": [
        "### **b. Histogram**\n",
        "- 특정 구간(interval, bin)에 해당하는 수치형 변수의 개수(빈도수)를 나타낸 그래프입니다. \n",
        "- bin의 크기(너비)가 일정합니다.\n",
        "- bin의 빈도수가 $0$인 경우가 아니면, bin 사이에 빈 틈이 없습니다. "
      ],
      "metadata": {
        "id": "3uD5956uVRkr"
      }
    },
    {
      "cell_type": "code",
      "source": [
        "# matplotlib 라이브러리의 histogram\n",
        "plt.hist(data=df, x='total_bill');"
      ],
      "metadata": {
        "colab": {
          "base_uri": "https://localhost:8080/",
          "height": 265
        },
        "id": "nLyF7zWxe6ak",
        "outputId": "c4deeb1c-d1e2-4e2c-97ad-d60af24979fd"
      },
      "execution_count": null,
      "outputs": [
        {
          "output_type": "display_data",
          "data": {
            "text/plain": [
              "<Figure size 432x288 with 1 Axes>"
            ],
            "image/png": "[encoded data removed]"
          },
          "metadata": {
            "needs_background": "light"
          }
        }
      ]
    },
    {
      "cell_type": "code",
      "source": [
        "# seaborn 라이브러리의 histogram\n",
        "sns.distplot(df['total_bill']);"
      ],
      "metadata": {
        "colab": {
          "base_uri": "https://localhost:8080/",
          "height": 338
        },
        "id": "BIl00O0dfJ2Y",
        "outputId": "da93baa4-d823-40c3-9570-f80851fcc06a"
      },
      "execution_count": null,
      "outputs": [
        {
          "output_type": "stream",
          "name": "stderr",
          "text": [
            "/usr/local/lib/python3.7/dist-packages/seaborn/distributions.py:2619: FutureWarning: `distplot` is a deprecated function and will be removed in a future version. Please adapt your code to use either `displot` (a figure-level function with similar flexibility) or `histplot` (an axes-level function for histograms).\n",
            "  warnings.warn(msg, FutureWarning)\n"
          ]
        },
        {
          "output_type": "display_data",
          "data": {
            "text/plain": [
              "<Figure size 432x288 with 1 Axes>"
            ],
            "image/png": "[encoded data removed]"
          },
          "metadata": {
            "needs_background": "light"
          }
        }
      ]
    },
    {
      "cell_type": "markdown",
      "source": [
        "> 💡**Tip**\n",
        ">\n",
        "> density plot : histogram을 부드러운 곡선으로 나타낸 것으로 커널밀도추정(kernel density estimation) 그래프입니다.  "
      ],
      "metadata": {
        "id": "ri7XKVI2Va-z"
      }
    },
    {
      "cell_type": "markdown",
      "source": [
        "### **c. Barplot**\n",
        "범주형 변수의 빈도수 또는 비율을 나타내는 그래프입니다. "
      ],
      "metadata": {
        "id": "F3xF_mPEgWhS"
      }
    },
    {
      "cell_type": "code",
      "source": [
        "df['sex'].value_counts()"
      ],
      "metadata": {
        "colab": {
          "base_uri": "https://localhost:8080/"
        },
        "id": "0iN8ymsohaRF",
        "outputId": "b1d7e115-564b-485b-80ec-1b29a34e1e4c"
      },
      "execution_count": null,
      "outputs": [
        {
          "output_type": "execute_result",
          "data": {
            "text/plain": [
              "Male      157\n",
              "Female     87\n",
              "Name: sex, dtype: int64"
            ]
          },
          "metadata": {},
          "execution_count": 82
        }
      ]
    },
    {
      "cell_type": "code",
      "source": [
        "df['sex'].value_counts().plot.bar();"
      ],
      "metadata": {
        "colab": {
          "base_uri": "https://localhost:8080/",
          "height": 291
        },
        "id": "GIa6QwxphwD6",
        "outputId": "4f0352a8-5490-42c5-890a-410691f401e8"
      },
      "execution_count": null,
      "outputs": [
        {
          "output_type": "display_data",
          "data": {
            "text/plain": [
              "<Figure size 432x288 with 1 Axes>"
            ],
            "image/png": "[encoded data removed]"
          },
          "metadata": {
            "needs_background": "light"
          }
        }
      ]
    },
    {
      "cell_type": "markdown",
      "source": [
        "## **4-2. 변수들 간의 관계 파악**\n",
        "변수가 둘 이상인 다변량(multivariate)의 경우에는 변수들 간의 관계를 확인하는 것이 주 목적입니다. "
      ],
      "metadata": {
        "id": "w7nVNTPSFSSX"
      }
    },
    {
      "cell_type": "markdown",
      "source": [
        "### **a. Scatterplot**\n",
        "두 수치형 변수의 관계를 나타내는 그래프입니다. "
      ],
      "metadata": {
        "id": "iG2QGYv-h8FN"
      }
    },
    {
      "cell_type": "code",
      "source": [
        "plt.scatter(df['total_bill'], df['tip']);"
      ],
      "metadata": {
        "colab": {
          "base_uri": "https://localhost:8080/",
          "height": 265
        },
        "id": "QPPGXho8iJSS",
        "outputId": "881650ec-e56e-4e01-8489-cd575583ba91"
      },
      "execution_count": null,
      "outputs": [
        {
          "output_type": "display_data",
          "data": {
            "text/plain": [
              "<Figure size 432x288 with 1 Axes>"
            ],
            "image/png": "[encoded data removed]"
          },
          "metadata": {
            "needs_background": "light"
          }
        }
      ]
    },
    {
      "cell_type": "markdown",
      "source": [
        "### **b. Barplot**\n",
        "- cross table : 두 범주형 변수의 범주별 빈도수를 나타낸 표입니다. "
      ],
      "metadata": {
        "id": "h14-Kj-_ioqa"
      }
    },
    {
      "cell_type": "code",
      "source": [
        "cross = pd.crosstab(df['sex'], df['day'])\n",
        "cross"
      ],
      "metadata": {
        "colab": {
          "base_uri": "https://localhost:8080/",
          "height": 143
        },
        "id": "wGqWbeqwi3dU",
        "outputId": "afb79246-25e5-49f5-f9e7-a14a13e1b05d"
      },
      "execution_count": null,
      "outputs": [
        {
          "output_type": "execute_result",
          "data": {
            "text/plain": [
              "day     Thur  Fri  Sat  Sun\n",
              "sex                        \n",
              "Male      30   10   59   58\n",
              "Female    32    9   28   18"
            ],
            "text/html": [
              "\n",
              "  <div id=\"df-f42798f3-93a6-4c22-bf6b-773a87b462c1\">\n",
              "    <div class=\"colab-df-container\">\n",
              "      <div>\n",
              "<style scoped>\n",
              "    .dataframe tbody tr th:only-of-type {\n",
              "        vertical-align: middle;\n",
              "    }\n",
              "\n",
              "    .dataframe tbody tr th {\n",
              "        vertical-align: top;\n",
              "    }\n",
              "\n",
              "    .dataframe thead th {\n",
              "        text-align: right;\n",
              "    }\n",
              "</style>\n",
              "<table border=\"1\" class=\"dataframe\">\n",
              "  <thead>\n",
              "    <tr style=\"text-align: right;\">\n",
              "      <th>day</th>\n",
              "      <th>Thur</th>\n",
              "      <th>Fri</th>\n",
              "      <th>Sat</th>\n",
              "      <th>Sun</th>\n",
              "    </tr>\n",
              "    <tr>\n",
              "      <th>sex</th>\n",
              "      <th></th>\n",
              "      <th></th>\n",
              "      <th></th>\n",
              "      <th></th>\n",
              "    </tr>\n",
              "  </thead>\n",
              "  <tbody>\n",
              "    <tr>\n",
              "      <th>Male</th>\n",
              "      <td>30</td>\n",
              "      <td>10</td>\n",
              "      <td>59</td>\n",
              "      <td>58</td>\n",
              "    </tr>\n",
              "    <tr>\n",
              "      <th>Female</th>\n",
              "      <td>32</td>\n",
              "      <td>9</td>\n",
              "      <td>28</td>\n",
              "      <td>18</td>\n",
              "    </tr>\n",
              "  </tbody>\n",
              "</table>\n",
              "</div>\n",
              "      <button class=\"colab-df-convert\" onclick=\"convertToInteractive('df-f42798f3-93a6-4c22-bf6b-773a87b462c1')\"\n",
              "              title=\"Convert this dataframe to an interactive table.\"\n",
              "              style=\"display:none;\">\n",
              "        \n",
              "  <svg xmlns=\"http://www.w3.org/2000/svg\" height=\"24px\"viewBox=\"0 0 24 24\"\n",
              "       width=\"24px\">\n",
              "    <path d=\"M0 0h24v24H0V0z\" fill=\"none\"/>\n",
              "    <path d=\"M18.56 5.44l.94 2.06.94-2.06 2.06-.94-2.06-.94-.94-2.06-.94 2.06-2.06.94zm-11 1L8.5 8.5l.94-2.06 2.06-.94-2.06-.94L8.5 2.5l-.94 2.06-2.06.94zm10 10l.94 2.06.94-2.06 2.06-.94-2.06-.94-.94-2.06-.94 2.06-2.06.94z\"/><path d=\"M17.41 7.96l-1.37-1.37c-.4-.4-.92-.59-1.43-.59-.52 0-1.04.2-1.43.59L10.3 9.45l-7.72 7.72c-.78.78-.78 2.05 0 2.83L4 21.41c.39.39.9.59 1.41.59.51 0 1.02-.2 1.41-.59l7.78-7.78 2.81-2.81c.8-.78.8-2.07 0-2.86zM5.41 20L4 18.59l7.72-7.72 1.47 1.35L5.41 20z\"/>\n",
              "  </svg>\n",
              "      </button>\n",
              "      \n",
              "  <style>\n",
              "    .colab-df-container {\n",
              "      display:flex;\n",
              "      flex-wrap:wrap;\n",
              "      gap: 12px;\n",
              "    }\n",
              "\n",
              "    .colab-df-convert {\n",
              "      background-color: #E8F0FE;\n",
              "      border: none;\n",
              "      border-radius: 50%;\n",
              "      cursor: pointer;\n",
              "      display: none;\n",
              "      fill: #1967D2;\n",
              "      height: 32px;\n",
              "      padding: 0 0 0 0;\n",
              "      width: 32px;\n",
              "    }\n",
              "\n",
              "    .colab-df-convert:hover {\n",
              "      background-color: #E2EBFA;\n",
              "      box-shadow: 0px 1px 2px rgba(60, 64, 67, 0.3), 0px 1px 3px 1px rgba(60, 64, 67, 0.15);\n",
              "      fill: #174EA6;\n",
              "    }\n",
              "\n",
              "    [theme=dark] .colab-df-convert {\n",
              "      background-color: #3B4455;\n",
              "      fill: #D2E3FC;\n",
              "    }\n",
              "\n",
              "    [theme=dark] .colab-df-convert:hover {\n",
              "      background-color: #434B5C;\n",
              "      box-shadow: 0px 1px 3px 1px rgba(0, 0, 0, 0.15);\n",
              "      filter: drop-shadow(0px 1px 2px rgba(0, 0, 0, 0.3));\n",
              "      fill: #FFFFFF;\n",
              "    }\n",
              "  </style>\n",
              "\n",
              "      <script>\n",
              "        const buttonEl =\n",
              "          document.querySelector('#df-f42798f3-93a6-4c22-bf6b-773a87b462c1 button.colab-df-convert');\n",
              "        buttonEl.style.display =\n",
              "          google.colab.kernel.accessAllowed ? 'block' : 'none';\n",
              "\n",
              "        async function convertToInteractive(key) {\n",
              "          const element = document.querySelector('#df-f42798f3-93a6-4c22-bf6b-773a87b462c1');\n",
              "          const dataTable =\n",
              "            await google.colab.kernel.invokeFunction('convertToInteractive',\n",
              "                                                     [key], {});\n",
              "          if (!dataTable) return;\n",
              "\n",
              "          const docLinkHtml = 'Like what you see? Visit the ' +\n",
              "            '<a target=\"_blank\" href=https://colab.research.google.com/notebooks/data_table.ipynb>data table notebook</a>'\n",
              "            + ' to learn more about interactive tables.';\n",
              "          element.innerHTML = '';\n",
              "          dataTable['output_type'] = 'display_data';\n",
              "          await google.colab.output.renderOutput(dataTable, element);\n",
              "          const docLink = document.createElement('div');\n",
              "          docLink.innerHTML = docLinkHtml;\n",
              "          element.appendChild(docLink);\n",
              "        }\n",
              "      </script>\n",
              "    </div>\n",
              "  </div>\n",
              "  "
            ]
          },
          "metadata": {},
          "execution_count": 90
        }
      ]
    },
    {
      "cell_type": "code",
      "source": [
        "# seaborn 라이브러리를 사용하여 두 범주형 변수에 대한 barplot 그리기\n",
        "sns.countplot(data=df, x='sex', hue='day');"
      ],
      "metadata": {
        "colab": {
          "base_uri": "https://localhost:8080/",
          "height": 279
        },
        "id": "KxqUAzPnjHUs",
        "outputId": "76531cd8-40ee-49a9-d447-a5eb5ea6cc2c"
      },
      "execution_count": null,
      "outputs": [
        {
          "output_type": "display_data",
          "data": {
            "text/plain": [
              "<Figure size 432x288 with 1 Axes>"
            ],
            "image/png": "[encoded data removed]"
          },
          "metadata": {
            "needs_background": "light"
          }
        }
      ]
    },
    {
      "cell_type": "markdown",
      "source": [
        "### **c. Boxplot**\n",
        "범주형 변수에 따른 수치형 변수의 분포를 나타내는 그래프입니다."
      ],
      "metadata": {
        "id": "IdPkGcaNkEpl"
      }
    },
    {
      "cell_type": "code",
      "source": [
        "sns.boxplot(data=df, x ='day', y='total_bill');"
      ],
      "metadata": {
        "colab": {
          "base_uri": "https://localhost:8080/",
          "height": 279
        },
        "id": "yrYWimgGkYug",
        "outputId": "dac0c990-b069-4d5b-e2e9-5f7958c5d438"
      },
      "execution_count": null,
      "outputs": [
        {
          "output_type": "display_data",
          "data": {
            "text/plain": [
              "<Figure size 432x288 with 1 Axes>"
            ],
            "image/png": "[encoded data removed]"
          },
          "metadata": {
            "needs_background": "light"
          }
        }
      ]
    },
    {
      "cell_type": "markdown",
      "source": [
        "> 💡**Tip**\n",
        ">\n",
        "> 지금까지 `tips` 데이터셋에 대해 시각화와 통계치를 통해 EDA를 진행해 보았습니다. <br>\n",
        "> 이로부터 어떤 결론을 도출할 수 있을까요?"
      ],
      "metadata": {
        "id": "J3SKHjmPT8bY"
      }
    }
  ]
}